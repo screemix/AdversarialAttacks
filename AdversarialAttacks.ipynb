{
  "nbformat": 4,
  "nbformat_minor": 0,
  "metadata": {
    "accelerator": "GPU",
    "colab": {
      "provenance": [],
      "collapsed_sections": [
        "U4Q5q6v4Y9Nc",
        "47bXEwGclGSB",
        "Tg5QEvvVY_4R",
        "FkYV8W9xLnl0",
        "tQiNcd7OZEXy",
        "H8Y85D2TZHJG"
      ]
    },
    "kernelspec": {
      "display_name": "Python 3",
      "name": "python3"
    },
    "language_info": {
      "name": "python"
    }
  },
  "cells": [
    {
      "cell_type": "markdown",
      "metadata": {
        "id": "U4Q5q6v4Y9Nc"
      },
      "source": [
        "## Libs"
      ]
    },
    {
      "cell_type": "code",
      "metadata": {
        "colab": {
          "base_uri": "https://localhost:8080/"
        },
        "id": "4YS8GJzdHkLU",
        "outputId": "da214597-df6d-4502-a15a-30cae66e73ab"
      },
      "source": [
        "from sklearn.model_selection import train_test_split\n",
        "import numpy as np\n",
        "\n",
        "from torch.utils.data import DataLoader, Dataset\n",
        "import torchvision.transforms as T\n",
        "import torch\n",
        "import torch.nn as nn\n",
        "import copy\n",
        "import os\n",
        "from tqdm import tqdm\n",
        "\n",
        "from torchvision.datasets import ImageFolder\n",
        "from torch.nn import Module, Dropout2d, Flatten\n",
        "from torch.nn import Conv2d\n",
        "from torch.nn import Linear\n",
        "from torch.nn import MaxPool2d\n",
        "from torch.nn import ReLU\n",
        "from torch.nn import LogSoftmax, BatchNorm2d\n",
        "from torch import flatten\n",
        "import torch.optim as optim\n",
        "from torch.optim.lr_scheduler import StepLR\n",
        "from torch.nn.functional import max_pool2d, dropout\n",
        "from torch.utils.data import TensorDataset\n",
        "\n",
        "\n",
        "\n",
        "from torchvision import models\n",
        "import matplotlib.pyplot as plt\n",
        "\n",
        "from sklearn.metrics import classification_report\n",
        "\n",
        "import sys\n",
        "import warnings\n",
        "import cv2\n",
        "\n",
        "if not sys.warnoptions:\n",
        "    warnings.simplefilter(\"ignore\")\n",
        "\n",
        "from google.colab import drive\n",
        "drive._mount('/content/drive')"
      ],
      "execution_count": null,
      "outputs": [
        {
          "name": "stdout",
          "output_type": "stream",
          "text": [
            "Mounted at /content/drive\n"
          ]
        }
      ]
    },
    {
      "cell_type": "markdown",
      "metadata": {
        "id": "47bXEwGclGSB"
      },
      "source": [
        "## Stage 1. Model training."
      ]
    },
    {
      "cell_type": "markdown",
      "metadata": {
        "id": "Tg5QEvvVY_4R"
      },
      "source": [
        "#### Dataset reading and preparing"
      ]
    },
    {
      "cell_type": "code",
      "metadata": {
        "colab": {
          "base_uri": "https://localhost:8080/"
        },
        "id": "Xb1SOPRkIPDn",
        "outputId": "bcce2cc8-d7ab-4835-caf2-5f94f26491cb"
      },
      "source": [
        "dataset_path = \"drive/MyDrive/Dataset\"\n",
        "os.listdir(dataset_path)"
      ],
      "execution_count": null,
      "outputs": [
        {
          "data": {
            "text/plain": [
              "['training', 'validation']"
            ]
          },
          "execution_count": 2,
          "metadata": {},
          "output_type": "execute_result"
        }
      ]
    },
    {
      "cell_type": "code",
      "metadata": {
        "id": "Qvzml0UkJb2W"
      },
      "source": [
        "train_dataset = ImageFolder(dataset_path + '/training', transform=T.Compose([T.ToTensor(), T.Resize(256), T.Normalize(mean=[0.485, 0.456, 0.406], std=[0.229, 0.224, 0.225])]))\n",
        "test_dataset = ImageFolder(dataset_path + '/validation', transform=T.Compose([T.ToTensor(), T.Resize(256), T.Normalize(mean=[0.485, 0.456, 0.406], std=[0.229, 0.224, 0.225])]))\n",
        "batch_size = 32\n",
        "train_loader = DataLoader(train_dataset, batch_size, shuffle=True, num_workers=2)\n",
        "test_loader = DataLoader(test_dataset, batch_size, num_workers=2)"
      ],
      "execution_count": null,
      "outputs": []
    },
    {
      "cell_type": "markdown",
      "metadata": {
        "id": "FkYV8W9xLnl0"
      },
      "source": [
        "#### Functions for visualisation"
      ]
    },
    {
      "cell_type": "code",
      "metadata": {
        "colab": {
          "base_uri": "https://localhost:8080/",
          "height": 301
        },
        "id": "ZYY87ho9S1qQ",
        "outputId": "bb19cb74-81e8-4295-a606-6b1974a33ebe"
      },
      "source": [
        "def show_example(img, label):\n",
        "    print('Label: ', train_dataset.classes[label], \"(\"+str(label)+\")\")\n",
        "    plt.imshow(img.permute(1, 2, 0))\n",
        "    \n",
        "show_example(*train_dataset[1000])\n",
        "\n",
        "def showInRow(list_of_images, titles = None):\n",
        "  count = len(list_of_images)\n",
        "  for idx in range(count):\n",
        "    subplot = plt.subplot(1, count, idx+1)\n",
        "    if titles is not None:\n",
        "      subplot.set_title(titles[idx])\n",
        "      \n",
        "    img = list_of_images[idx]\n",
        "    subplot.imshow(img.permute(1, 2, 0))\n",
        "  plt.show()"
      ],
      "execution_count": null,
      "outputs": [
        {
          "name": "stderr",
          "output_type": "stream",
          "text": [
            "Clipping input data to the valid range for imshow with RGB data ([0..1] for floats or [0..255] for integers).\n"
          ]
        },
        {
          "name": "stdout",
          "output_type": "stream",
          "text": [
            "Label:  Tiger (1)\n"
          ]
        },
        {
          "data": {
            "image/png": "[encoded data removed]",
            "text/plain": [
              "<Figure size 432x288 with 1 Axes>"
            ]
          },
          "metadata": {},
          "output_type": "display_data"
        }
      ]
    },
    {
      "cell_type": "markdown",
      "metadata": {
        "id": "tQiNcd7OZEXy"
      },
      "source": [
        "#### Model "
      ]
    },
    {
      "cell_type": "code",
      "metadata": {
        "colab": {
          "base_uri": "https://localhost:8080/"
        },
        "id": "CWeNCKseOK_4",
        "outputId": "9754b886-65d3-4b35-cd4d-3cc335a99a9d"
      },
      "source": [
        "torch.manual_seed(43)"
      ],
      "execution_count": null,
      "outputs": [
        {
          "data": {
            "text/plain": [
              "<torch._C.Generator at 0x7fe7008d4670>"
            ]
          },
          "execution_count": 5,
          "metadata": {},
          "output_type": "execute_result"
        }
      ]
    },
    {
      "cell_type": "code",
      "metadata": {
        "id": "RXz3VSKwQIZv"
      },
      "source": [
        "class CustomCNN(nn.Module):\n",
        "  def __init__(self, numChannels, classes):\n",
        "\n",
        "    super(CustomCNN, self).__init__()\n",
        "\n",
        "    self.dropout = nn.Dropout(0.2)\n",
        "  \n",
        "    self.conv1 = Conv2d(in_channels=numChannels, out_channels=32, kernel_size=(5, 5))\n",
        "    self.relu1 = ReLU()\n",
        "    self.maxpool1 = MaxPool2d(kernel_size=(2, 2), stride=(2, 2))\n",
        "    self.conv1_bn = nn.BatchNorm2d(32)\n",
        "\n",
        "    self.conv2 = Conv2d(in_channels=32, out_channels=64, kernel_size=(5, 5))\n",
        "    self.relu2 = ReLU()\n",
        "    self.maxpool2 = MaxPool2d(kernel_size=(2, 2), stride=(2, 2))\n",
        "    self.conv2_bn = nn.BatchNorm2d(64)\n",
        "\n",
        "\n",
        "    self.conv3 = Conv2d(in_channels=64, out_channels=128, kernel_size=(3, 3))\n",
        "    self.relu3 = ReLU()\n",
        "    self.maxpool3 = MaxPool2d(kernel_size=(2, 2), stride=(2, 2))\n",
        "    self.conv3_bn = nn.BatchNorm2d(128)\n",
        "\n",
        "\n",
        "    self.fc1 = Linear(in_features=107648, out_features=1000)\n",
        "    self.relu3 = ReLU()\n",
        "    self.fc2 = Linear(in_features=1000, out_features=classes)\n",
        "\n",
        "  def forward(self, x):\n",
        "\n",
        "    x = self.conv1(x)\n",
        "    x = self.conv1_bn(x)\n",
        "    x = self.relu1(x)\n",
        "    x = self.maxpool1(x)\n",
        "\n",
        "    x = self.conv2(x)\n",
        "    x = self.conv2_bn(x)\n",
        "    x = self.relu2(x)\n",
        "    x = self.maxpool2(x)\n",
        "\n",
        "    x = self.conv3(x)\n",
        "    x = self.conv3_bn(x)\n",
        "    x = self.relu3(x)\n",
        "    x = self.maxpool3(x)\n",
        "    x = self.dropout(x)\n",
        "\n",
        "    x = flatten(x, 1)\n",
        "\n",
        "    x = self.fc1(x)\n",
        "    x = self.relu3(x)\n",
        "\n",
        "    x = self.fc2(x)\n",
        "\n",
        "\n",
        "    return x"
      ],
      "execution_count": null,
      "outputs": []
    },
    {
      "cell_type": "markdown",
      "metadata": {
        "id": "H8Y85D2TZHJG"
      },
      "source": [
        "#### Training Loop"
      ]
    },
    {
      "cell_type": "code",
      "metadata": {
        "id": "yAANHSFJPxi7"
      },
      "source": [
        "def train(model, optimizer, loss_fn, train_loader, val_loader, scheduler=None, epochs=20, device=\"cuda\"):\n",
        "    best_loss = 1000\n",
        "    best_model = copy.deepcopy(model)\n",
        "    \n",
        "    for epoch in range(1, epochs+1):\n",
        "        training_loss = 0.0\n",
        "        valid_loss = 0.0\n",
        "\n",
        "        model.train()\n",
        "        for batch in tqdm(train_loader):\n",
        "            optimizer.zero_grad()\n",
        "            inputs, targets = batch\n",
        "            inputs = inputs.to(device)\n",
        "            targets = targets.to(device)\n",
        "            output = model(inputs)\n",
        "            loss = loss_fn(output, targets)\n",
        "            loss.backward()\n",
        "            optimizer.step()\n",
        "            training_loss += loss.data.item() * inputs.size(0)\n",
        "        training_loss /= len(train_loader.dataset)\n",
        "        \n",
        "        model.eval()\n",
        "        num_correct = 0 \n",
        "        num_examples = 0\n",
        "        for batch in tqdm(val_loader):\n",
        "          with torch.no_grad():\n",
        "            inputs, targets = batch\n",
        "            inputs = inputs.to(device)\n",
        "            output = model(inputs)\n",
        "            targets = targets.to(device)\n",
        "            loss = loss_fn(output,targets) \n",
        "            valid_loss += loss.data.item() * inputs.size(0)\n",
        "            correct = torch.eq(torch.max(output, dim=1)[1], targets).view(-1)\n",
        "            num_correct += torch.sum(correct).item()\n",
        "            num_examples += correct.shape[0]\n",
        "        \n",
        "        if scheduler != None:\n",
        "          scheduler.step()\n",
        "        valid_loss /= len(val_loader.dataset)\n",
        "\n",
        "        print('Epoch: {}, Training Loss: {:.2f}, Validation Loss: {:.2f}, accuracy = {:.2f}'.format(epoch, training_loss,\n",
        "        valid_loss, num_correct / num_examples))\n",
        "\n",
        "        if valid_loss < best_loss:\n",
        "          best_model.load_state_dict(model.state_dict())\n",
        "          best_loss = valid_loss\n",
        "        \n",
        "    return best_model"
      ],
      "execution_count": null,
      "outputs": []
    },
    {
      "cell_type": "code",
      "metadata": {
        "colab": {
          "base_uri": "https://localhost:8080/"
        },
        "id": "NCkR5gYVSJqV",
        "outputId": "94bf7211-84a9-4b21-b3f1-5273b9e031c9"
      },
      "source": [
        "model_2 = CustomCNN(3, 2).to(\"cuda\")\n",
        "lr = 1e-4\n",
        "optimizer = optim.Adam(model_2.parameters(), lr=lr)\n",
        "scheduler = StepLR(optimizer, step_size=5, gamma=0.1)\n",
        "loss =  nn.CrossEntropyLoss()\n",
        "best_model = train(model_2, optimizer, loss, train_loader, test_loader, epochs=10, device=\"cuda\")\n"
      ],
      "execution_count": null,
      "outputs": [
        {
          "name": "stderr",
          "output_type": "stream",
          "text": [
            "100%|██████████| 57/57 [06:59<00:00,  7.36s/it]\n",
            "100%|██████████| 7/7 [00:44<00:00,  6.33s/it]\n"
          ]
        },
        {
          "name": "stdout",
          "output_type": "stream",
          "text": [
            "Epoch: 1, Training Loss: 1.57, Validation Loss: 0.77, accuracy = 0.71\n"
          ]
        },
        {
          "name": "stderr",
          "output_type": "stream",
          "text": [
            "100%|██████████| 57/57 [00:23<00:00,  2.40it/s]\n",
            "100%|██████████| 7/7 [00:02<00:00,  3.07it/s]\n"
          ]
        },
        {
          "name": "stdout",
          "output_type": "stream",
          "text": [
            "Epoch: 2, Training Loss: 0.60, Validation Loss: 0.63, accuracy = 0.76\n"
          ]
        },
        {
          "name": "stderr",
          "output_type": "stream",
          "text": [
            "100%|██████████| 57/57 [00:23<00:00,  2.39it/s]\n",
            "100%|██████████| 7/7 [00:02<00:00,  3.16it/s]\n"
          ]
        },
        {
          "name": "stdout",
          "output_type": "stream",
          "text": [
            "Epoch: 3, Training Loss: 0.24, Validation Loss: 0.31, accuracy = 0.85\n"
          ]
        },
        {
          "name": "stderr",
          "output_type": "stream",
          "text": [
            "100%|██████████| 57/57 [00:23<00:00,  2.38it/s]\n",
            "100%|██████████| 7/7 [00:02<00:00,  3.06it/s]\n"
          ]
        },
        {
          "name": "stdout",
          "output_type": "stream",
          "text": [
            "Epoch: 4, Training Loss: 0.13, Validation Loss: 0.37, accuracy = 0.85\n"
          ]
        },
        {
          "name": "stderr",
          "output_type": "stream",
          "text": [
            "100%|██████████| 57/57 [00:24<00:00,  2.36it/s]\n",
            "100%|██████████| 7/7 [00:02<00:00,  3.09it/s]\n"
          ]
        },
        {
          "name": "stdout",
          "output_type": "stream",
          "text": [
            "Epoch: 5, Training Loss: 0.08, Validation Loss: 0.43, accuracy = 0.81\n"
          ]
        },
        {
          "name": "stderr",
          "output_type": "stream",
          "text": [
            "100%|██████████| 57/57 [00:23<00:00,  2.40it/s]\n",
            "100%|██████████| 7/7 [00:02<00:00,  3.13it/s]\n"
          ]
        },
        {
          "name": "stdout",
          "output_type": "stream",
          "text": [
            "Epoch: 6, Training Loss: 0.07, Validation Loss: 0.46, accuracy = 0.83\n"
          ]
        },
        {
          "name": "stderr",
          "output_type": "stream",
          "text": [
            "100%|██████████| 57/57 [00:24<00:00,  2.37it/s]\n",
            "100%|██████████| 7/7 [00:02<00:00,  3.08it/s]\n"
          ]
        },
        {
          "name": "stdout",
          "output_type": "stream",
          "text": [
            "Epoch: 7, Training Loss: 0.09, Validation Loss: 0.47, accuracy = 0.84\n"
          ]
        },
        {
          "name": "stderr",
          "output_type": "stream",
          "text": [
            "100%|██████████| 57/57 [00:24<00:00,  2.35it/s]\n",
            "100%|██████████| 7/7 [00:02<00:00,  3.09it/s]\n"
          ]
        },
        {
          "name": "stdout",
          "output_type": "stream",
          "text": [
            "Epoch: 8, Training Loss: 0.06, Validation Loss: 0.41, accuracy = 0.85\n"
          ]
        },
        {
          "name": "stderr",
          "output_type": "stream",
          "text": [
            "100%|██████████| 57/57 [00:23<00:00,  2.38it/s]\n",
            "100%|██████████| 7/7 [00:02<00:00,  3.04it/s]\n"
          ]
        },
        {
          "name": "stdout",
          "output_type": "stream",
          "text": [
            "Epoch: 9, Training Loss: 0.12, Validation Loss: 0.53, accuracy = 0.84\n"
          ]
        },
        {
          "name": "stderr",
          "output_type": "stream",
          "text": [
            "100%|██████████| 57/57 [00:23<00:00,  2.38it/s]\n",
            "100%|██████████| 7/7 [00:02<00:00,  3.01it/s]"
          ]
        },
        {
          "name": "stdout",
          "output_type": "stream",
          "text": [
            "Epoch: 10, Training Loss: 0.03, Validation Loss: 0.38, accuracy = 0.88\n"
          ]
        },
        {
          "name": "stderr",
          "output_type": "stream",
          "text": [
            "\n"
          ]
        }
      ]
    },
    {
      "cell_type": "code",
      "metadata": {
        "id": "_D4SOswEYOKb"
      },
      "source": [
        "torch.save(best_model.state_dict(), 'best_model.pt')"
      ],
      "execution_count": null,
      "outputs": []
    },
    {
      "cell_type": "code",
      "metadata": {
        "colab": {
          "base_uri": "https://localhost:8080/"
        },
        "id": "iuhLdw0NVqKv",
        "outputId": "6fdf97d4-9a96-4d52-c05f-2673de8e7b9f"
      },
      "source": [
        "best_model = CustomCNN(3, 2).to(\"cuda\")\n",
        "best_model.load_state_dict(torch.load(\"/content/best_model.pt\"))"
      ],
      "execution_count": null,
      "outputs": [
        {
          "data": {
            "text/plain": [
              "<All keys matched successfully>"
            ]
          },
          "execution_count": 10,
          "metadata": {},
          "output_type": "execute_result"
        }
      ]
    },
    {
      "cell_type": "markdown",
      "metadata": {
        "id": "Ix1fP-e9ZKcG"
      },
      "source": [
        "#### Model asessment before attack"
      ]
    },
    {
      "cell_type": "code",
      "metadata": {
        "colab": {
          "base_uri": "https://localhost:8080/"
        },
        "id": "HzxPShIjDRmC",
        "outputId": "63da575c-1e80-4a50-8b56-f50b0fb4f6ad"
      },
      "source": [
        "def model_report(model, test_loader):\n",
        "  preds = []\n",
        "  targets = []\n",
        "  valid_loss = 0.0\n",
        "  loss_fn = nn.CrossEntropyLoss()\n",
        "\n",
        "  for batch in tqdm(test_loader):\n",
        "    with torch.no_grad():\n",
        "      inputs, target = batch\n",
        "      inputs, target = batch = inputs.to(\"cuda\"), target.to(\"cuda\")\n",
        "      output = model(inputs)\n",
        "      pred = torch.max(output, dim=1)[1]\n",
        "      preds += pred.to(\"cpu\")\n",
        "      targets += target.to(\"cpu\")\n",
        "      loss = loss_fn(output, target) \n",
        "      valid_loss += loss.data.item() * inputs.size(0)\n",
        "\n",
        "  valid_loss /= len(test_loader.dataset)\n",
        "\n",
        "  print()\n",
        "  print()\n",
        "  print(\"Validation loss is: {}\".format(valid_loss))\n",
        "  print(classification_report(preds, targets))\n",
        "\n",
        "model_report(model_2, test_loader)"
      ],
      "execution_count": null,
      "outputs": [
        {
          "name": "stderr",
          "output_type": "stream",
          "text": [
            "100%|██████████| 7/7 [00:02<00:00,  2.91it/s]"
          ]
        },
        {
          "name": "stdout",
          "output_type": "stream",
          "text": [
            "\n",
            "\n",
            "Validation loss is: 0.3775999677181244\n",
            "              precision    recall  f1-score   support\n",
            "\n",
            "           0       0.93      0.85      0.89       110\n",
            "           1       0.83      0.92      0.87        90\n",
            "\n",
            "    accuracy                           0.88       200\n",
            "   macro avg       0.88      0.88      0.88       200\n",
            "weighted avg       0.89      0.88      0.88       200\n",
            "\n"
          ]
        },
        {
          "name": "stderr",
          "output_type": "stream",
          "text": [
            "\n"
          ]
        }
      ]
    },
    {
      "cell_type": "markdown",
      "metadata": {
        "id": "PBWY1B7IZpcb"
      },
      "source": [
        "## Stage 2. Attack & Defence"
      ]
    },
    {
      "cell_type": "code",
      "metadata": {
        "id": "P6Jf4R-wIWgK"
      },
      "source": [
        "attack_set = [10, 11, 111, 112]\n",
        "attack_dataset = torch.utils.data.Subset(test_dataset, attack_set)\n",
        "attack_loader = DataLoader(attack_dataset, 1)"
      ],
      "execution_count": null,
      "outputs": []
    },
    {
      "cell_type": "code",
      "metadata": {
        "id": "tdRjYH-iQpoA"
      },
      "source": [
        "def attack_output(model, attack_f, args):\n",
        "  images = []\n",
        "  preds = []\n",
        "  for X, y in attack_loader:\n",
        "    X, y = X.to(\"cuda\"), y.to(\"cuda\")\n",
        "    delta = attack_f(model, loss, X, y, *args)\n",
        "    altered_img = X.to(\"cuda\")+delta\n",
        "    pred = train_dataset.classes[torch.argmax(best_model(altered_img)).item()]\n",
        "\n",
        "    images.append(altered_img.squeeze().to(\"cpu\"))\n",
        "    preds.append(pred)\n",
        "    \n",
        "\n",
        "  showInRow(images, preds)\n",
        "\n",
        "\n",
        "def attacked_model_report(model, test_loader, attack_f, args):\n",
        "  preds = []\n",
        "  targets = []\n",
        "  loss_fn = nn.CrossEntropyLoss()\n",
        "  valid_loss = 0.0\n",
        "\n",
        "  for (X, y) in tqdm(test_loader):\n",
        "      X, y = X.to(\"cuda\"), y.to(\"cuda\")\n",
        "      delta = attack_f(model, loss_fn, X, y, *args)\n",
        "      output = model(X+delta)\n",
        "      pred = torch.max(output, dim=1)[1]\n",
        "      preds += list(pred.to(\"cpu\"))\n",
        "      targets += list(y.to(\"cpu\"))\n",
        "      loss = loss_fn(output, y)\n",
        "      valid_loss += loss.data.item() * X.size(0)\n",
        "  \n",
        "  valid_loss /= len(test_loader.dataset)\n",
        "\n",
        "  print()\n",
        "  print()\n",
        "  print(\"Validation loss is: {}\".format(valid_loss))\n",
        "  print(classification_report(preds, targets))\n",
        "  "
      ],
      "execution_count": null,
      "outputs": []
    },
    {
      "cell_type": "markdown",
      "metadata": {
        "id": "0kuBTSDGH2gZ"
      },
      "source": [
        "### Building attacks"
      ]
    },
    {
      "cell_type": "markdown",
      "metadata": {
        "id": "nSr2-sIib5Pc"
      },
      "source": [
        "FGSM"
      ]
    },
    {
      "cell_type": "code",
      "metadata": {
        "id": "Dv0s3_IlZrmF"
      },
      "source": [
        "def fgsm(model, loss_fn, X, y, e):\n",
        "    delta = torch.zeros_like(X, requires_grad=True).to(\"cuda\")\n",
        "    loss = loss_fn(model(X + delta), y)\n",
        "    loss.backward()\n",
        "    g = delta.grad.detach()\n",
        "    return e * g.sign()"
      ],
      "execution_count": null,
      "outputs": []
    },
    {
      "cell_type": "code",
      "metadata": {
        "colab": {
          "base_uri": "https://localhost:8080/",
          "height": 202
        },
        "id": "35r62ju4HEf_",
        "outputId": "82116a14-9c8c-4a9d-bc35-deabdc15a9e9"
      },
      "source": [
        "args = [0.1]\n",
        "attack_output(model_2, fgsm, args)"
      ],
      "execution_count": null,
      "outputs": [
        {
          "name": "stderr",
          "output_type": "stream",
          "text": [
            "Clipping input data to the valid range for imshow with RGB data ([0..1] for floats or [0..255] for integers).\n",
            "Clipping input data to the valid range for imshow with RGB data ([0..1] for floats or [0..255] for integers).\n",
            "Clipping input data to the valid range for imshow with RGB data ([0..1] for floats or [0..255] for integers).\n",
            "Clipping input data to the valid range for imshow with RGB data ([0..1] for floats or [0..255] for integers).\n"
          ]
        },
        {
          "data": {
            "image/png": "[encoded data removed]",
            "text/plain": [
              "<Figure size 432x288 with 4 Axes>"
            ]
          },
          "metadata": {},
          "output_type": "display_data"
        }
      ]
    },
    {
      "cell_type": "code",
      "metadata": {
        "colab": {
          "base_uri": "https://localhost:8080/"
        },
        "id": "7pzkK5BvOUQT",
        "outputId": "d3aaf2a4-e5b1-44f8-ee52-8af3a8561042"
      },
      "source": [
        "attacked_model_report(model_2, test_loader, fgsm, args)"
      ],
      "execution_count": null,
      "outputs": [
        {
          "name": "stderr",
          "output_type": "stream",
          "text": [
            "100%|██████████| 7/7 [00:03<00:00,  2.03it/s]"
          ]
        },
        {
          "name": "stdout",
          "output_type": "stream",
          "text": [
            "\n",
            "\n",
            "Validation loss is: 6.279686584472656\n",
            "              precision    recall  f1-score   support\n",
            "\n",
            "           0       0.23      0.26      0.24        88\n",
            "           1       0.35      0.31      0.33       112\n",
            "\n",
            "    accuracy                           0.29       200\n",
            "   macro avg       0.29      0.29      0.29       200\n",
            "weighted avg       0.30      0.29      0.29       200\n",
            "\n"
          ]
        },
        {
          "name": "stderr",
          "output_type": "stream",
          "text": [
            "\n"
          ]
        }
      ]
    },
    {
      "cell_type": "markdown",
      "metadata": {
        "id": "E-iOrZbcW10d"
      },
      "source": [
        "PGD"
      ]
    },
    {
      "cell_type": "code",
      "metadata": {
        "id": "o_VEt9QnR1TL"
      },
      "source": [
        "def pgd(model, loss_fn, X, y, e, alpha, num_iter, verbose=False):\n",
        "    delta = torch.zeros_like(X, requires_grad=True).to(\"cuda\")\n",
        "    \n",
        "    if verbose:\n",
        "      iter_obj = tqdm(range(num_iter))\n",
        "    else:\n",
        "      iter_obj = range(num_iter)\n",
        "\n",
        "    for t in range(num_iter):\n",
        "        loss = loss_fn(model(X + delta), y)\n",
        "        loss.backward()\n",
        "        delta.data = (delta + X.shape[0] * alpha * delta.grad.data).clamp(-e, e)\n",
        "        delta.grad.zero_()\n",
        "    return delta.detach()"
      ],
      "execution_count": null,
      "outputs": []
    },
    {
      "cell_type": "code",
      "metadata": {
        "colab": {
          "base_uri": "https://localhost:8080/",
          "height": 202
        },
        "id": "whYF1dBAXRDi",
        "outputId": "976bcd1d-988d-4c58-f2ae-3e9687bdc440"
      },
      "source": [
        "args = [0.1, 1e4, 100]\n",
        "attack_output(model_2, pgd, args)"
      ],
      "execution_count": null,
      "outputs": [
        {
          "name": "stderr",
          "output_type": "stream",
          "text": [
            "Clipping input data to the valid range for imshow with RGB data ([0..1] for floats or [0..255] for integers).\n",
            "Clipping input data to the valid range for imshow with RGB data ([0..1] for floats or [0..255] for integers).\n",
            "Clipping input data to the valid range for imshow with RGB data ([0..1] for floats or [0..255] for integers).\n",
            "Clipping input data to the valid range for imshow with RGB data ([0..1] for floats or [0..255] for integers).\n"
          ]
        },
        {
          "data": {
            "image/png": "[encoded data removed]",
            "text/plain": [
              "<Figure size 432x288 with 4 Axes>"
            ]
          },
          "metadata": {},
          "output_type": "display_data"
        }
      ]
    },
    {
      "cell_type": "code",
      "metadata": {
        "colab": {
          "base_uri": "https://localhost:8080/"
        },
        "id": "fVBKB05kXs-a",
        "outputId": "4426b325-000e-4936-9a3e-02d650fc7238"
      },
      "source": [
        "attacked_model_report(model_2, test_loader, pgd, args)"
      ],
      "execution_count": null,
      "outputs": [
        {
          "name": "stderr",
          "output_type": "stream",
          "text": [
            "100%|██████████| 7/7 [02:44<00:00, 23.44s/it]"
          ]
        },
        {
          "name": "stdout",
          "output_type": "stream",
          "text": [
            "\n",
            "\n",
            "Validation loss is: 4.582411241531372\n",
            "              precision    recall  f1-score   support\n",
            "\n",
            "           0       0.12      0.13      0.12        95\n",
            "           1       0.17      0.16      0.17       105\n",
            "\n",
            "    accuracy                           0.14       200\n",
            "   macro avg       0.15      0.14      0.14       200\n",
            "weighted avg       0.15      0.14      0.15       200\n",
            "\n"
          ]
        },
        {
          "name": "stderr",
          "output_type": "stream",
          "text": [
            "\n"
          ]
        }
      ]
    },
    {
      "cell_type": "markdown",
      "metadata": {
        "id": "teaieK-TXHvG"
      },
      "source": [
        "C&W attack with $l_2$ norm"
      ]
    },
    {
      "cell_type": "code",
      "metadata": {
        "id": "LkFFZflsuVZc"
      },
      "source": [
        "# original paper: https://arxiv.org/pdf/1608.04644.pdf\n",
        "\n",
        "def cw_l2(model, loss_fn, X, y, c, num_iter, lr):\n",
        "\n",
        "  # f_1 functional from original paper\n",
        "  def f(delta, X, y, model, loss_fn):\n",
        "    return -loss_fn(model(X+delta), y)\n",
        "\n",
        "  # Change of variables from original paper\n",
        "  w = torch.zeros_like(X, requires_grad=True).to(\"cuda\")\n",
        "  \n",
        "  optimizer = optim.Adam([w], lr=lr)\n",
        "  loss_d = nn.MSELoss(reduction='sum')\n",
        "  loss_f = torch.sum\n",
        "\n",
        "  for i in range(num_iter):\n",
        "    # Change of variables from original paper\n",
        "    delta = 1/2 * (nn.Tanh()(w) + 1) - X\n",
        "    \n",
        "    # minimizing both negative loss of target and distance of attack\n",
        "    overall_loss = loss_d(delta+X, X) + loss_f(c*f(delta, X, y, model, loss_fn))\n",
        "    \n",
        "    overall_loss.backward()\n",
        "    optimizer.step()\n",
        "    optimizer.zero_grad()\n",
        "  \n",
        "  return delta.detach()"
      ],
      "execution_count": null,
      "outputs": []
    },
    {
      "cell_type": "markdown",
      "metadata": {
        "id": "YgJOXwAI3iqu"
      },
      "source": [
        "Note: constant c was found by brute forcing instead of binary search like it was in original paper due to the lack of resources (colab contantly was taking gpu from 1.5 day of working)"
      ]
    },
    {
      "cell_type": "code",
      "metadata": {
        "colab": {
          "base_uri": "https://localhost:8080/",
          "height": 136
        },
        "id": "fpf59aWlXJ7T",
        "outputId": "c89f06eb-9eb2-4133-dc0b-a89e8789b9e1"
      },
      "source": [
        "args = [10, 100, 1e-1]\n",
        "attack_output(model_2, cw_l2, args)"
      ],
      "execution_count": null,
      "outputs": [
        {
          "data": {
            "image/png": "[encoded data removed]",
            "text/plain": [
              "<Figure size 432x288 with 4 Axes>"
            ]
          },
          "metadata": {},
          "output_type": "display_data"
        }
      ]
    },
    {
      "cell_type": "code",
      "metadata": {
        "colab": {
          "base_uri": "https://localhost:8080/"
        },
        "id": "XVdV3-FEXz4u",
        "outputId": "216ac278-8bac-4647-b482-f8b63775c25d"
      },
      "source": [
        "attacked_model_report(model_2, test_loader, cw_l2, args)"
      ],
      "execution_count": null,
      "outputs": [
        {
          "name": "stderr",
          "output_type": "stream",
          "text": [
            "100%|██████████| 7/7 [02:50<00:00, 24.29s/it]"
          ]
        },
        {
          "name": "stdout",
          "output_type": "stream",
          "text": [
            "\n",
            "\n",
            "Validation loss is: 0.7157291603088379\n",
            "              precision    recall  f1-score   support\n",
            "\n",
            "           0       0.59      0.70      0.64        84\n",
            "           1       0.75      0.65      0.69       116\n",
            "\n",
            "    accuracy                           0.67       200\n",
            "   macro avg       0.67      0.67      0.67       200\n",
            "weighted avg       0.68      0.67      0.67       200\n",
            "\n"
          ]
        },
        {
          "name": "stderr",
          "output_type": "stream",
          "text": [
            "\n"
          ]
        }
      ]
    },
    {
      "cell_type": "markdown",
      "metadata": {
        "id": "mebYdrufiuFq"
      },
      "source": [
        "C&W attack with $l_{1}$"
      ]
    },
    {
      "cell_type": "code",
      "metadata": {
        "id": "iSISiiWIefBv"
      },
      "source": [
        "# original paper: https://arxiv.org/pdf/1608.04644.pdf\n",
        "\n",
        "def cw_l_1(model, loss_fn, X, y, c, num_iter, lr):\n",
        "\n",
        "  # f_1 functional from original paper\n",
        "  def f(delta, X, y, model, loss_fn):\n",
        "    return -loss_fn(model(X+delta), y)\n",
        "\n",
        "  # Change of variables from original paper\n",
        "  w = torch.zeros_like(X, requires_grad=True).to(\"cuda\")\n",
        "  \n",
        "  optimizer = optim.Adam([w], lr=lr)\n",
        "  loss_d = nn.MSELoss(reduction='sum')\n",
        "  loss_f = torch.sum\n",
        "\n",
        "  for i in range(num_iter):\n",
        "    # Change of variables from original paper\n",
        "    delta = 1/2 * (nn.Tanh()(w) + 1) - X\n",
        "    \n",
        "    # minimizing both negative loss of target and distance of attack\n",
        "    overall_loss =  torch.norm(delta, 1) + loss_f(c*f(delta, X, y, model, loss_fn))\n",
        "    overall_loss.backward()\n",
        "    optimizer.step()\n",
        "    optimizer.zero_grad()\n",
        "  \n",
        "  return delta.detach()"
      ],
      "execution_count": null,
      "outputs": []
    },
    {
      "cell_type": "code",
      "metadata": {
        "colab": {
          "base_uri": "https://localhost:8080/",
          "height": 136
        },
        "id": "iTLonOS2pUv3",
        "outputId": "e7e26b65-a092-4f82-c613-c02a45243968"
      },
      "source": [
        "args = [100, 500, 1e-1]\n",
        "attack_output(model_2, cw_l_1, args)"
      ],
      "execution_count": null,
      "outputs": [
        {
          "data": {
            "image/png": "[encoded data removed]",
            "text/plain": [
              "<Figure size 432x288 with 4 Axes>"
            ]
          },
          "metadata": {},
          "output_type": "display_data"
        }
      ]
    },
    {
      "cell_type": "code",
      "metadata": {
        "colab": {
          "base_uri": "https://localhost:8080/"
        },
        "id": "ezczT7C_paYE",
        "outputId": "a318221b-9b34-4226-a5dd-08ea680e930d"
      },
      "source": [
        "attacked_model_report(model_2, test_loader, cw_l_1, args)"
      ],
      "execution_count": null,
      "outputs": [
        {
          "name": "stderr",
          "output_type": "stream",
          "text": [
            "100%|██████████| 7/7 [13:58<00:00, 119.79s/it]"
          ]
        },
        {
          "name": "stdout",
          "output_type": "stream",
          "text": [
            "\n",
            "\n",
            "Validation loss is: 0.7119308304786682\n",
            "              precision    recall  f1-score   support\n",
            "\n",
            "           0       0.60      0.71      0.65        85\n",
            "           1       0.75      0.65      0.70       115\n",
            "\n",
            "    accuracy                           0.68       200\n",
            "   macro avg       0.68      0.68      0.67       200\n",
            "weighted avg       0.69      0.68      0.68       200\n",
            "\n"
          ]
        },
        {
          "name": "stderr",
          "output_type": "stream",
          "text": [
            "\n"
          ]
        }
      ]
    },
    {
      "cell_type": "markdown",
      "metadata": {
        "id": "pl5zw5Cd8lP7"
      },
      "source": [
        "As in the paper, my implemented cw with l_1 and l_inf norm attacks perform worse than l_2 "
      ]
    },
    {
      "cell_type": "markdown",
      "metadata": {
        "id": "nNB5cdPKuU_T"
      },
      "source": [
        "### Building defense"
      ]
    },
    {
      "cell_type": "markdown",
      "metadata": {
        "id": "ECoTtLkluatj"
      },
      "source": [
        "Adversarial training "
      ]
    },
    {
      "cell_type": "code",
      "metadata": {
        "id": "VLy20dXu7MXf"
      },
      "source": [
        "# I do not want cuda out of memory warning, so I decreased batch size\n",
        "train_loader = DataLoader(train_dataset, 8, shuffle=True, num_workers=2)\n",
        "test_loader = DataLoader(test_dataset, 8, num_workers=2)"
      ],
      "execution_count": null,
      "outputs": []
    },
    {
      "cell_type": "markdown",
      "metadata": {
        "id": "HzRVlbYskNn0"
      },
      "source": [
        "Universal adversarial training function for all attacks"
      ]
    },
    {
      "cell_type": "code",
      "metadata": {
        "id": "Yl53paYvaupm"
      },
      "source": [
        "def adversarial_train(model, optimizer, loss_fn, train_loader, val_loader, attack_f, args, \n",
        "                      scheduler=None, epochs=20, device=\"cuda\"):\n",
        "    best_loss = 1000\n",
        "    best_model = copy.deepcopy(model)\n",
        "    \n",
        "    for epoch in range(1, epochs+1):\n",
        "        training_loss = 0.0\n",
        "        valid_loss = 0.0\n",
        "\n",
        "        model.train()\n",
        "        for batch in tqdm(train_loader):\n",
        "            optimizer.zero_grad()\n",
        "            inputs, targets = batch\n",
        "            inputs, targets = inputs.to(device), targets.to(device)\n",
        "\n",
        "            delta = attack_f(model, loss_fn, inputs, targets, *args)\n",
        "            output = model(inputs+delta)\n",
        "\n",
        "            loss = loss_fn(output, targets)\n",
        "            loss.backward()\n",
        "            optimizer.step()\n",
        "            training_loss += loss.data.item() * inputs.size(0)\n",
        "        training_loss /= len(train_loader.dataset)\n",
        "        \n",
        "        model.eval()\n",
        "        num_correct = 0 \n",
        "        num_examples = 0\n",
        "        for batch in tqdm(val_loader):\n",
        "          #with torch.no_grad():\n",
        "            inputs, targets = batch\n",
        "            inputs, targets = inputs.to(device), targets.to(device)\n",
        "            delta = attack_f(model, loss_fn, inputs, targets, *args)\n",
        "\n",
        "            output = model(inputs+delta)\n",
        "            loss = loss_fn(output, targets) \n",
        "            valid_loss += loss.data.item() * inputs.size(0)\n",
        "            correct = torch.eq(torch.max(output, dim=1)[1], targets).view(-1)\n",
        "            num_correct += torch.sum(correct).item()\n",
        "            num_examples += correct.shape[0]\n",
        "        \n",
        "        if scheduler != None:\n",
        "          scheduler.step()\n",
        "        valid_loss /= len(val_loader.dataset)\n",
        "\n",
        "        print('Epoch: {}, Training Loss: {:.2f}, Validation Loss: {:.2f}, accuracy = {:.2f}'.format(epoch, training_loss,\n",
        "        valid_loss, num_correct / num_examples))\n",
        "\n",
        "        if valid_loss < best_loss:\n",
        "          best_model.load_state_dict(model.state_dict())\n",
        "          best_loss = valid_loss\n",
        "        \n",
        "    return best_model"
      ],
      "execution_count": null,
      "outputs": []
    },
    {
      "cell_type": "markdown",
      "metadata": {
        "id": "41GBrVUWkCvE"
      },
      "source": [
        "Adversarial training for fgsm attack"
      ]
    },
    {
      "cell_type": "code",
      "metadata": {
        "colab": {
          "background_save": true,
          "base_uri": "https://localhost:8080/"
        },
        "id": "x6QtYB484uop",
        "outputId": "06fde9f7-85b9-46c1-dcda-4bdd8b5cbe10"
      },
      "source": [
        "model_2_adv = CustomCNN(3, 2).to(\"cuda\")\n",
        "args = [0.1]\n",
        "lr_2_adv = 1e-3\n",
        "optimizer_2_adv = optim.Adam(model_2_adv.parameters(), lr=lr_2_adv)\n",
        "scheduler_2_adv = StepLR(optimizer_2_adv, step_size=15, gamma=0.1)\n",
        "loss = nn.CrossEntropyLoss()\n",
        "best_adv_model = adversarial_train(model_2_adv, optimizer_2_adv, loss, train_loader, test_loader, fgsm, args, scheduler=scheduler_2_adv, epochs=30, device=\"cuda\")"
      ],
      "execution_count": null,
      "outputs": [
        {
          "name": "stderr",
          "output_type": "stream",
          "text": [
            "100%|██████████| 225/225 [01:02<00:00,  3.60it/s]\n",
            "100%|██████████| 25/25 [00:03<00:00,  6.32it/s]\n"
          ]
        },
        {
          "name": "stdout",
          "output_type": "stream",
          "text": [
            "Epoch: 1, Training Loss: 2.69, Validation Loss: 0.70, accuracy = 0.43\n"
          ]
        },
        {
          "name": "stderr",
          "output_type": "stream",
          "text": [
            "100%|██████████| 225/225 [01:02<00:00,  3.61it/s]\n",
            "100%|██████████| 25/25 [00:03<00:00,  6.26it/s]\n"
          ]
        },
        {
          "name": "stdout",
          "output_type": "stream",
          "text": [
            "Epoch: 2, Training Loss: 0.71, Validation Loss: 0.71, accuracy = 0.53\n"
          ]
        },
        {
          "name": "stderr",
          "output_type": "stream",
          "text": [
            "100%|██████████| 225/225 [01:02<00:00,  3.60it/s]\n",
            "100%|██████████| 25/25 [00:03<00:00,  6.34it/s]\n"
          ]
        },
        {
          "name": "stdout",
          "output_type": "stream",
          "text": [
            "Epoch: 3, Training Loss: 0.71, Validation Loss: 0.73, accuracy = 0.52\n"
          ]
        },
        {
          "name": "stderr",
          "output_type": "stream",
          "text": [
            "100%|██████████| 225/225 [01:02<00:00,  3.58it/s]\n",
            "100%|██████████| 25/25 [00:03<00:00,  6.34it/s]\n"
          ]
        },
        {
          "name": "stdout",
          "output_type": "stream",
          "text": [
            "Epoch: 4, Training Loss: 0.72, Validation Loss: 0.71, accuracy = 0.54\n"
          ]
        },
        {
          "name": "stderr",
          "output_type": "stream",
          "text": [
            "100%|██████████| 225/225 [01:03<00:00,  3.56it/s]\n",
            "100%|██████████| 25/25 [00:03<00:00,  6.31it/s]\n"
          ]
        },
        {
          "name": "stdout",
          "output_type": "stream",
          "text": [
            "Epoch: 5, Training Loss: 0.72, Validation Loss: 0.71, accuracy = 0.48\n"
          ]
        },
        {
          "name": "stderr",
          "output_type": "stream",
          "text": [
            "100%|██████████| 225/225 [01:03<00:00,  3.56it/s]\n",
            "100%|██████████| 25/25 [00:03<00:00,  6.34it/s]\n"
          ]
        },
        {
          "name": "stdout",
          "output_type": "stream",
          "text": [
            "Epoch: 6, Training Loss: 0.72, Validation Loss: 0.86, accuracy = 0.54\n"
          ]
        },
        {
          "name": "stderr",
          "output_type": "stream",
          "text": [
            "100%|██████████| 225/225 [01:03<00:00,  3.55it/s]\n",
            "100%|██████████| 25/25 [00:03<00:00,  6.26it/s]\n"
          ]
        },
        {
          "name": "stdout",
          "output_type": "stream",
          "text": [
            "Epoch: 7, Training Loss: 0.71, Validation Loss: 0.81, accuracy = 0.55\n"
          ]
        },
        {
          "name": "stderr",
          "output_type": "stream",
          "text": [
            "100%|██████████| 225/225 [01:03<00:00,  3.54it/s]\n",
            "100%|██████████| 25/25 [00:03<00:00,  6.35it/s]\n"
          ]
        },
        {
          "name": "stdout",
          "output_type": "stream",
          "text": [
            "Epoch: 8, Training Loss: 0.70, Validation Loss: 0.73, accuracy = 0.53\n"
          ]
        },
        {
          "name": "stderr",
          "output_type": "stream",
          "text": [
            "100%|██████████| 225/225 [01:03<00:00,  3.55it/s]\n",
            "100%|██████████| 25/25 [00:03<00:00,  6.29it/s]\n"
          ]
        },
        {
          "name": "stdout",
          "output_type": "stream",
          "text": [
            "Epoch: 9, Training Loss: 0.68, Validation Loss: 0.76, accuracy = 0.58\n"
          ]
        },
        {
          "name": "stderr",
          "output_type": "stream",
          "text": [
            "100%|██████████| 225/225 [01:03<00:00,  3.57it/s]\n",
            "100%|██████████| 25/25 [00:03<00:00,  6.35it/s]\n"
          ]
        },
        {
          "name": "stdout",
          "output_type": "stream",
          "text": [
            "Epoch: 10, Training Loss: 0.66, Validation Loss: 0.83, accuracy = 0.58\n"
          ]
        },
        {
          "name": "stderr",
          "output_type": "stream",
          "text": [
            "100%|██████████| 225/225 [01:03<00:00,  3.56it/s]\n",
            "100%|██████████| 25/25 [00:03<00:00,  6.31it/s]\n"
          ]
        },
        {
          "name": "stdout",
          "output_type": "stream",
          "text": [
            "Epoch: 11, Training Loss: 0.65, Validation Loss: 0.99, accuracy = 0.57\n"
          ]
        },
        {
          "name": "stderr",
          "output_type": "stream",
          "text": [
            "100%|██████████| 225/225 [01:03<00:00,  3.56it/s]\n",
            "100%|██████████| 25/25 [00:03<00:00,  6.32it/s]\n"
          ]
        },
        {
          "name": "stdout",
          "output_type": "stream",
          "text": [
            "Epoch: 12, Training Loss: 0.63, Validation Loss: 0.75, accuracy = 0.66\n"
          ]
        },
        {
          "name": "stderr",
          "output_type": "stream",
          "text": [
            "100%|██████████| 225/225 [01:03<00:00,  3.57it/s]\n",
            "100%|██████████| 25/25 [00:03<00:00,  6.41it/s]\n"
          ]
        },
        {
          "name": "stdout",
          "output_type": "stream",
          "text": [
            "Epoch: 13, Training Loss: 0.60, Validation Loss: 0.71, accuracy = 0.68\n"
          ]
        },
        {
          "name": "stderr",
          "output_type": "stream",
          "text": [
            "100%|██████████| 225/225 [01:03<00:00,  3.57it/s]\n",
            "100%|██████████| 25/25 [00:03<00:00,  6.38it/s]\n"
          ]
        },
        {
          "name": "stdout",
          "output_type": "stream",
          "text": [
            "Epoch: 14, Training Loss: 0.58, Validation Loss: 0.68, accuracy = 0.65\n"
          ]
        },
        {
          "name": "stderr",
          "output_type": "stream",
          "text": [
            "100%|██████████| 225/225 [01:03<00:00,  3.57it/s]\n",
            "100%|██████████| 25/25 [00:03<00:00,  6.26it/s]\n"
          ]
        },
        {
          "name": "stdout",
          "output_type": "stream",
          "text": [
            "Epoch: 15, Training Loss: 0.56, Validation Loss: 0.73, accuracy = 0.63\n"
          ]
        },
        {
          "name": "stderr",
          "output_type": "stream",
          "text": [
            "100%|██████████| 225/225 [01:03<00:00,  3.55it/s]\n",
            "100%|██████████| 25/25 [00:03<00:00,  6.31it/s]\n"
          ]
        },
        {
          "name": "stdout",
          "output_type": "stream",
          "text": [
            "Epoch: 16, Training Loss: 0.46, Validation Loss: 0.76, accuracy = 0.67\n"
          ]
        },
        {
          "name": "stderr",
          "output_type": "stream",
          "text": [
            "100%|██████████| 225/225 [01:03<00:00,  3.54it/s]\n",
            "100%|██████████| 25/25 [00:03<00:00,  6.30it/s]\n"
          ]
        },
        {
          "name": "stdout",
          "output_type": "stream",
          "text": [
            "Epoch: 17, Training Loss: 0.45, Validation Loss: 0.67, accuracy = 0.70\n"
          ]
        },
        {
          "name": "stderr",
          "output_type": "stream",
          "text": [
            "100%|██████████| 225/225 [01:03<00:00,  3.56it/s]\n",
            "100%|██████████| 25/25 [00:03<00:00,  6.29it/s]\n"
          ]
        },
        {
          "name": "stdout",
          "output_type": "stream",
          "text": [
            "Epoch: 18, Training Loss: 0.44, Validation Loss: 0.67, accuracy = 0.69\n"
          ]
        },
        {
          "name": "stderr",
          "output_type": "stream",
          "text": [
            "100%|██████████| 225/225 [01:03<00:00,  3.54it/s]\n",
            "100%|██████████| 25/25 [00:04<00:00,  6.22it/s]\n"
          ]
        },
        {
          "name": "stdout",
          "output_type": "stream",
          "text": [
            "Epoch: 19, Training Loss: 0.42, Validation Loss: 0.71, accuracy = 0.69\n"
          ]
        },
        {
          "name": "stderr",
          "output_type": "stream",
          "text": [
            "100%|██████████| 225/225 [01:03<00:00,  3.55it/s]\n",
            "100%|██████████| 25/25 [00:03<00:00,  6.33it/s]\n"
          ]
        },
        {
          "name": "stdout",
          "output_type": "stream",
          "text": [
            "Epoch: 20, Training Loss: 0.42, Validation Loss: 0.68, accuracy = 0.71\n"
          ]
        },
        {
          "name": "stderr",
          "output_type": "stream",
          "text": [
            "100%|██████████| 225/225 [01:03<00:00,  3.54it/s]\n",
            "100%|██████████| 25/25 [00:03<00:00,  6.35it/s]\n"
          ]
        },
        {
          "name": "stdout",
          "output_type": "stream",
          "text": [
            "Epoch: 21, Training Loss: 0.41, Validation Loss: 0.69, accuracy = 0.69\n"
          ]
        },
        {
          "name": "stderr",
          "output_type": "stream",
          "text": [
            "100%|██████████| 225/225 [01:03<00:00,  3.55it/s]\n",
            "100%|██████████| 25/25 [00:03<00:00,  6.30it/s]\n"
          ]
        },
        {
          "name": "stdout",
          "output_type": "stream",
          "text": [
            "Epoch: 22, Training Loss: 0.39, Validation Loss: 0.68, accuracy = 0.71\n"
          ]
        },
        {
          "name": "stderr",
          "output_type": "stream",
          "text": [
            "100%|██████████| 225/225 [01:03<00:00,  3.54it/s]\n",
            "100%|██████████| 25/25 [00:03<00:00,  6.29it/s]\n"
          ]
        },
        {
          "name": "stdout",
          "output_type": "stream",
          "text": [
            "Epoch: 23, Training Loss: 0.39, Validation Loss: 0.65, accuracy = 0.72\n"
          ]
        },
        {
          "name": "stderr",
          "output_type": "stream",
          "text": [
            "100%|██████████| 225/225 [01:03<00:00,  3.54it/s]\n",
            "100%|██████████| 25/25 [00:03<00:00,  6.27it/s]\n"
          ]
        },
        {
          "name": "stdout",
          "output_type": "stream",
          "text": [
            "Epoch: 24, Training Loss: 0.39, Validation Loss: 0.69, accuracy = 0.73\n"
          ]
        },
        {
          "name": "stderr",
          "output_type": "stream",
          "text": [
            "100%|██████████| 225/225 [01:03<00:00,  3.54it/s]\n",
            "100%|██████████| 25/25 [00:03<00:00,  6.29it/s]\n"
          ]
        },
        {
          "name": "stdout",
          "output_type": "stream",
          "text": [
            "Epoch: 25, Training Loss: 0.38, Validation Loss: 0.68, accuracy = 0.69\n"
          ]
        },
        {
          "name": "stderr",
          "output_type": "stream",
          "text": [
            "100%|██████████| 225/225 [01:03<00:00,  3.56it/s]\n",
            "100%|██████████| 25/25 [00:03<00:00,  6.44it/s]\n"
          ]
        },
        {
          "name": "stdout",
          "output_type": "stream",
          "text": [
            "Epoch: 26, Training Loss: 0.37, Validation Loss: 0.68, accuracy = 0.72\n"
          ]
        },
        {
          "name": "stderr",
          "output_type": "stream",
          "text": [
            "100%|██████████| 225/225 [01:03<00:00,  3.56it/s]\n",
            "100%|██████████| 25/25 [00:03<00:00,  6.30it/s]\n"
          ]
        },
        {
          "name": "stdout",
          "output_type": "stream",
          "text": [
            "Epoch: 27, Training Loss: 0.34, Validation Loss: 0.70, accuracy = 0.72\n"
          ]
        },
        {
          "name": "stderr",
          "output_type": "stream",
          "text": [
            "100%|██████████| 225/225 [01:03<00:00,  3.55it/s]\n",
            "100%|██████████| 25/25 [00:03<00:00,  6.31it/s]\n"
          ]
        },
        {
          "name": "stdout",
          "output_type": "stream",
          "text": [
            "Epoch: 28, Training Loss: 0.38, Validation Loss: 0.72, accuracy = 0.72\n"
          ]
        },
        {
          "name": "stderr",
          "output_type": "stream",
          "text": [
            "100%|██████████| 225/225 [01:03<00:00,  3.55it/s]\n",
            "100%|██████████| 25/25 [00:03<00:00,  6.25it/s]\n"
          ]
        },
        {
          "name": "stdout",
          "output_type": "stream",
          "text": [
            "Epoch: 29, Training Loss: 0.35, Validation Loss: 0.72, accuracy = 0.71\n"
          ]
        },
        {
          "name": "stderr",
          "output_type": "stream",
          "text": [
            "100%|██████████| 225/225 [01:03<00:00,  3.55it/s]\n",
            "100%|██████████| 25/25 [00:03<00:00,  6.34it/s]"
          ]
        },
        {
          "name": "stdout",
          "output_type": "stream",
          "text": [
            "Epoch: 30, Training Loss: 0.31, Validation Loss: 0.73, accuracy = 0.72\n"
          ]
        },
        {
          "name": "stderr",
          "output_type": "stream",
          "text": [
            "\n"
          ]
        }
      ]
    },
    {
      "cell_type": "code",
      "metadata": {
        "colab": {
          "background_save": true
        },
        "id": "GkhW52Lg47T9",
        "outputId": "12026865-ef4e-4eeb-be7c-56b63d66b212"
      },
      "source": [
        "torch.save(best_adv_model.state_dict(), 'best_adv_model.pt')\n",
        "best_adv_model = CustomCNN(3, 2).to(\"cuda\")\n",
        "best_adv_model.load_state_dict(torch.load(\"/content/best_adv_model.pt\"))"
      ],
      "execution_count": null,
      "outputs": [
        {
          "data": {
            "text/plain": [
              "<All keys matched successfully>"
            ]
          },
          "execution_count": null,
          "metadata": {},
          "output_type": "execute_result"
        }
      ]
    },
    {
      "cell_type": "markdown",
      "metadata": {
        "id": "5GKlq1ylIURy"
      },
      "source": [
        "### Model asessmemnt after attack"
      ]
    },
    {
      "cell_type": "markdown",
      "metadata": {
        "id": "orjqt-p_IxNA"
      },
      "source": [
        "Metrics are not so good, but much better than instantly after attack applying"
      ]
    },
    {
      "cell_type": "code",
      "metadata": {
        "colab": {
          "background_save": true
        },
        "id": "UyecYUaM4iSd",
        "outputId": "aeca0451-b862-4684-edd5-a611a20e622c"
      },
      "source": [
        "args = [0.1]\n",
        "attack_output(best_adv_model, fgsm, args)\n",
        "attacked_model_report(best_adv_model, test_loader, fgsm, args)"
      ],
      "execution_count": null,
      "outputs": [
        {
          "name": "stderr",
          "output_type": "stream",
          "text": [
            "Clipping input data to the valid range for imshow with RGB data ([0..1] for floats or [0..255] for integers).\n",
            "Clipping input data to the valid range for imshow with RGB data ([0..1] for floats or [0..255] for integers).\n",
            "Clipping input data to the valid range for imshow with RGB data ([0..1] for floats or [0..255] for integers).\n",
            "Clipping input data to the valid range for imshow with RGB data ([0..1] for floats or [0..255] for integers).\n"
          ]
        },
        {
          "data": {
            "image/png": "[encoded data removed]",
            "text/plain": [
              "<Figure size 432x288 with 4 Axes>"
            ]
          },
          "metadata": {},
          "output_type": "display_data"
        },
        {
          "name": "stderr",
          "output_type": "stream",
          "text": [
            "100%|██████████| 25/25 [00:04<00:00,  6.03it/s]"
          ]
        },
        {
          "name": "stdout",
          "output_type": "stream",
          "text": [
            "\n",
            "\n",
            "Validation loss is: 1.1910822820663451\n",
            "              precision    recall  f1-score   support\n",
            "\n",
            "           0       0.59      0.57      0.58       104\n",
            "           1       0.55      0.57      0.56        96\n",
            "\n",
            "    accuracy                           0.57       200\n",
            "   macro avg       0.57      0.57      0.57       200\n",
            "weighted avg       0.57      0.57      0.57       200\n",
            "\n"
          ]
        },
        {
          "name": "stderr",
          "output_type": "stream",
          "text": [
            "\n"
          ]
        }
      ]
    },
    {
      "cell_type": "markdown",
      "metadata": {
        "id": "wkB_yKIZkTwb"
      },
      "source": [
        "Adversarial training for pgd attack"
      ]
    },
    {
      "cell_type": "code",
      "metadata": {
        "id": "7R6xlDkMIbd_"
      },
      "source": [
        "# it run for 4 hours and failed due to the limit of colab gpus\n",
        "model_2 = CustomCNN(3, 2).to(\"cuda\")\n",
        "args = [0.1, 1e4, 100]\n",
        "lr = 1e-3\n",
        "optimizer = optim.Adam(model_2.parameters(), lr=lr)\n",
        "scheduler = StepLR(optimizer, step_size=7, gamma=0.1)\n",
        "loss =  nn.CrossEntropyLoss()\n",
        "best_adv_model = adversarial_train(model_2, optimizer, loss, train_loader, test_loader, pgd, args, epochs=10, device=\"cuda\")\n",
        "\n",
        "torch.save(best_adv_model.state_dict(), 'best_adv_model.pt')\n",
        "best_adv_model = CustomCNN(3, 2).to(\"cuda\")\n",
        "best_adv_model.load_state_dict(torch.load(\"/content/best_adv_model.pt\"))\n",
        "\n",
        "args = [0.1, 1e5, 10]\n",
        "attack_output(best_adv_model, fgsm, args)\n",
        "attacked_model_report(best_adv_model, test_loader, fgsm, args)"
      ],
      "execution_count": null,
      "outputs": []
    },
    {
      "cell_type": "markdown",
      "metadata": {
        "id": "IK9ftZYSx-Qz"
      },
      "source": [
        "## Stage 3. Adaptive attack implementation"
      ]
    },
    {
      "cell_type": "markdown",
      "metadata": {
        "id": "2bI6MhmRrFZe"
      },
      "source": [
        "Adversarial Retraining implementation \n",
        "\n",
        "Both approaches from original paper - https://arxiv.org/pdf/1705.07263.pdf\n",
        "\n",
        "However, due to the lack of resources, I implemented attacks and defense using fgsm. Nevertheless, the same code could be uses with any (pgd/c&w attack).\n",
        "\n",
        " My experiments proved the fact that fgsm is not effective for attacking adversarial retrained model."
      ]
    },
    {
      "cell_type": "code",
      "metadata": {
        "id": "pBku748W374T"
      },
      "source": [
        "def generate_adversarial_samples(model, loader, attack_f, args):\n",
        "  images = []\n",
        "  for (X, y) in tqdm(loader):\n",
        "    X, y = X.to(\"cuda\"), y.to(\"cuda\")\n",
        "    delta = attack_f(model, loss, X, y, *args)\n",
        "    altered_img = X.to(\"cuda\")+delta\n",
        "\n",
        "    images.append(altered_img.to(\"cpu\"))    \n",
        "  return images "
      ],
      "execution_count": null,
      "outputs": []
    },
    {
      "cell_type": "markdown",
      "metadata": {
        "id": "B3TUrwGozvLU"
      },
      "source": [
        "### Zero-Knowledge Attack Evaluation"
      ]
    },
    {
      "cell_type": "markdown",
      "metadata": {
        "id": "fuvx7QlsrVAA"
      },
      "source": [
        "#### Approach woth $F_{base}$ and $F_{secure}$"
      ]
    },
    {
      "cell_type": "code",
      "metadata": {
        "colab": {
          "base_uri": "https://localhost:8080/"
        },
        "id": "EtyNBAkUJgSn",
        "outputId": "a5a2604a-a07e-4315-c8b5-c31f96e3cc44"
      },
      "source": [
        "args = [0.1]\n",
        "loss = nn.CrossEntropyLoss()\n",
        "train_adv_tensors = generate_adversarial_samples(best_model, train_loader, fgsm, args)\n",
        "test_adv_tensors = generate_adversarial_samples(best_model, test_loader, fgsm, args)\n",
        "\n",
        "adv_data_train = TensorDataset(torch.cat(train_adv_tensors), \n",
        "                               torch.tensor([2 for i in range(len(torch.cat(train_adv_tensors)))]))\n",
        "adv_data_test = TensorDataset(torch.cat(test_adv_tensors),\n",
        "                              torch.tensor([2 for i in range(len(torch.cat(test_adv_tensors)))]))"
      ],
      "execution_count": null,
      "outputs": [
        {
          "name": "stderr",
          "output_type": "stream",
          "text": [
            "100%|██████████| 57/57 [00:25<00:00,  2.25it/s]\n",
            "100%|██████████| 7/7 [00:02<00:00,  2.48it/s]\n"
          ]
        }
      ]
    },
    {
      "cell_type": "code",
      "metadata": {
        "id": "IBnS4A_OMYyX"
      },
      "source": [
        "def collate(batch):\n",
        "    \n",
        "    # item: a tuple of (img, label)\n",
        "    data = [item[0] for item in batch]\n",
        "    target = [item[1] for item in batch]\n",
        "    data = torch.stack(data)\n",
        "    target = torch.LongTensor(target)\n",
        "    return [data, target]"
      ],
      "execution_count": null,
      "outputs": []
    },
    {
      "cell_type": "code",
      "metadata": {
        "id": "zjLb7B3pDEmR"
      },
      "source": [
        "train_adv_dataset = torch.utils.data.ConcatDataset([adv_data_train, train_dataset])\n",
        "test_adv_dataset = torch.utils.data.ConcatDataset([adv_data_test, test_dataset])\n",
        "\n",
        "train_adv_loader = DataLoader(train_adv_dataset, 8, shuffle=True, collate_fn=collate, num_workers=2)\n",
        "test_adv_loader = DataLoader(test_adv_dataset, 8, collate_fn=collate, num_workers=2)"
      ],
      "execution_count": null,
      "outputs": []
    },
    {
      "cell_type": "code",
      "metadata": {
        "colab": {
          "base_uri": "https://localhost:8080/"
        },
        "id": "hl4zxWxZA-zf",
        "outputId": "6e4e322e-393e-4da0-ed2a-294c71e6a39e"
      },
      "source": [
        "model_3 = CustomCNN(3, 3).to(\"cuda\")\n",
        "lr_3 = 1e-4\n",
        "optimizer_3 = optim.Adam(model_3.parameters(), lr=lr_3)\n",
        "scheduler_3 = StepLR(optimizer_3, step_size=5, gamma=0.1)\n",
        "loss =  nn.CrossEntropyLoss()\n",
        "best_model_3 = train(model_3, optimizer_3, loss, train_adv_loader, test_adv_loader, epochs=10, device=\"cuda\")"
      ],
      "execution_count": null,
      "outputs": [
        {
          "name": "stderr",
          "output_type": "stream",
          "text": [
            "100%|██████████| 450/450 [01:17<00:00,  5.80it/s]\n",
            "100%|██████████| 50/50 [00:03<00:00, 12.69it/s]\n"
          ]
        },
        {
          "name": "stdout",
          "output_type": "stream",
          "text": [
            "Epoch: 1, Training Loss: 1.80, Validation Loss: 1.05, accuracy = 0.58\n"
          ]
        },
        {
          "name": "stderr",
          "output_type": "stream",
          "text": [
            "100%|██████████| 450/450 [01:17<00:00,  5.80it/s]\n",
            "100%|██████████| 50/50 [00:03<00:00, 12.53it/s]\n"
          ]
        },
        {
          "name": "stdout",
          "output_type": "stream",
          "text": [
            "Epoch: 2, Training Loss: 0.76, Validation Loss: 0.88, accuracy = 0.66\n"
          ]
        },
        {
          "name": "stderr",
          "output_type": "stream",
          "text": [
            "100%|██████████| 450/450 [01:18<00:00,  5.72it/s]\n",
            "100%|██████████| 50/50 [00:03<00:00, 13.16it/s]\n"
          ]
        },
        {
          "name": "stdout",
          "output_type": "stream",
          "text": [
            "Epoch: 3, Training Loss: 0.42, Validation Loss: 0.34, accuracy = 0.85\n"
          ]
        },
        {
          "name": "stderr",
          "output_type": "stream",
          "text": [
            "100%|██████████| 450/450 [01:18<00:00,  5.74it/s]\n",
            "100%|██████████| 50/50 [00:03<00:00, 12.68it/s]\n"
          ]
        },
        {
          "name": "stdout",
          "output_type": "stream",
          "text": [
            "Epoch: 4, Training Loss: 0.32, Validation Loss: 0.29, accuracy = 0.88\n"
          ]
        },
        {
          "name": "stderr",
          "output_type": "stream",
          "text": [
            "100%|██████████| 450/450 [01:18<00:00,  5.74it/s]\n",
            "100%|██████████| 50/50 [00:04<00:00, 12.34it/s]\n"
          ]
        },
        {
          "name": "stdout",
          "output_type": "stream",
          "text": [
            "Epoch: 5, Training Loss: 0.24, Validation Loss: 0.24, accuracy = 0.90\n"
          ]
        },
        {
          "name": "stderr",
          "output_type": "stream",
          "text": [
            "100%|██████████| 450/450 [01:18<00:00,  5.72it/s]\n",
            "100%|██████████| 50/50 [00:04<00:00, 12.30it/s]\n"
          ]
        },
        {
          "name": "stdout",
          "output_type": "stream",
          "text": [
            "Epoch: 6, Training Loss: 0.23, Validation Loss: 0.24, accuracy = 0.91\n"
          ]
        },
        {
          "name": "stderr",
          "output_type": "stream",
          "text": [
            "100%|██████████| 450/450 [01:18<00:00,  5.72it/s]\n",
            "100%|██████████| 50/50 [00:04<00:00, 12.48it/s]\n"
          ]
        },
        {
          "name": "stdout",
          "output_type": "stream",
          "text": [
            "Epoch: 7, Training Loss: 0.16, Validation Loss: 0.25, accuracy = 0.90\n"
          ]
        },
        {
          "name": "stderr",
          "output_type": "stream",
          "text": [
            "100%|██████████| 450/450 [01:18<00:00,  5.71it/s]\n",
            "100%|██████████| 50/50 [00:04<00:00, 12.34it/s]\n"
          ]
        },
        {
          "name": "stdout",
          "output_type": "stream",
          "text": [
            "Epoch: 8, Training Loss: 0.16, Validation Loss: 0.13, accuracy = 0.96\n"
          ]
        },
        {
          "name": "stderr",
          "output_type": "stream",
          "text": [
            "100%|██████████| 450/450 [01:18<00:00,  5.72it/s]\n",
            "100%|██████████| 50/50 [00:04<00:00, 12.36it/s]\n"
          ]
        },
        {
          "name": "stdout",
          "output_type": "stream",
          "text": [
            "Epoch: 9, Training Loss: 0.13, Validation Loss: 0.32, accuracy = 0.91\n"
          ]
        },
        {
          "name": "stderr",
          "output_type": "stream",
          "text": [
            "100%|██████████| 450/450 [01:18<00:00,  5.72it/s]\n",
            "100%|██████████| 50/50 [00:04<00:00, 12.24it/s]"
          ]
        },
        {
          "name": "stdout",
          "output_type": "stream",
          "text": [
            "Epoch: 10, Training Loss: 0.14, Validation Loss: 0.25, accuracy = 0.92\n"
          ]
        },
        {
          "name": "stderr",
          "output_type": "stream",
          "text": [
            "\n"
          ]
        }
      ]
    },
    {
      "cell_type": "code",
      "metadata": {
        "id": "oSrJeZwtyH5R"
      },
      "source": [
        "torch.save(best_model_3.state_dict(), 'best_model_3.pt')"
      ],
      "execution_count": null,
      "outputs": []
    },
    {
      "cell_type": "code",
      "metadata": {
        "colab": {
          "base_uri": "https://localhost:8080/"
        },
        "id": "pO7roqHQyGcc",
        "outputId": "b21f0e7e-72e1-4eec-c076-fd0daa92ec70"
      },
      "source": [
        "best_model_3 = CustomCNN(3, 3).to(\"cuda\")\n",
        "best_model_3.load_state_dict(torch.load(\"/content/best_model_3.pt\"))"
      ],
      "execution_count": null,
      "outputs": [
        {
          "data": {
            "text/plain": [
              "<All keys matched successfully>"
            ]
          },
          "execution_count": 20,
          "metadata": {},
          "output_type": "execute_result"
        }
      ]
    },
    {
      "cell_type": "code",
      "metadata": {
        "colab": {
          "base_uri": "https://localhost:8080/"
        },
        "id": "G6QQ8kuQXoqz",
        "outputId": "6ed92347-1996-4d43-e141-0a30bdf36b6d"
      },
      "source": [
        "model_report(model_3, test_adv_loader)"
      ],
      "execution_count": null,
      "outputs": [
        {
          "name": "stderr",
          "output_type": "stream",
          "text": [
            "100%|██████████| 50/50 [00:03<00:00, 13.45it/s]"
          ]
        },
        {
          "name": "stdout",
          "output_type": "stream",
          "text": [
            "\n",
            "\n",
            "Validation loss is: 0.18358927626919466\n",
            "              precision    recall  f1-score   support\n",
            "\n",
            "           0       0.90      0.87      0.89       103\n",
            "           1       0.86      0.93      0.90        92\n",
            "           2       1.00      0.98      0.99       205\n",
            "\n",
            "    accuracy                           0.94       400\n",
            "   macro avg       0.92      0.93      0.92       400\n",
            "weighted avg       0.94      0.94      0.94       400\n",
            "\n"
          ]
        },
        {
          "name": "stderr",
          "output_type": "stream",
          "text": [
            "\n"
          ]
        }
      ]
    },
    {
      "cell_type": "markdown",
      "metadata": {
        "id": "o7-wZkjhntIi"
      },
      "source": [
        "#### Detector approach\n"
      ]
    },
    {
      "cell_type": "code",
      "metadata": {
        "id": "gTNs5Cz9Yghd"
      },
      "source": [
        "def collate_for_detector(batch):\n",
        "    data = [item[0] for item in batch]\n",
        "    target = []\n",
        "\n",
        "    for item in batch:\n",
        "      if int(item[1]) < 2:\n",
        "        target.append(0)\n",
        "      else:\n",
        "        target.append(1)\n",
        "    data = torch.stack(data)\n",
        "    target = torch.LongTensor(target)\n",
        "    return [data, target]"
      ],
      "execution_count": null,
      "outputs": []
    },
    {
      "cell_type": "code",
      "metadata": {
        "id": "SnXIaMVKXCSw"
      },
      "source": [
        "train_loader = DataLoader(train_dataset, batch_size, shuffle=True, num_workers=2)\n",
        "test_loader = DataLoader(test_dataset, batch_size, num_workers=2)"
      ],
      "execution_count": null,
      "outputs": []
    },
    {
      "cell_type": "code",
      "metadata": {
        "id": "8HysNOX4oL3P"
      },
      "source": [
        "train_adv_loader_d = DataLoader(train_adv_dataset, 8, shuffle=True, collate_fn = collate_for_detector, num_workers=2)\n",
        "test_adv_loader_d = DataLoader(test_adv_dataset, 8, collate_fn = collate_for_detector, num_workers=2)"
      ],
      "execution_count": null,
      "outputs": []
    },
    {
      "cell_type": "code",
      "metadata": {
        "colab": {
          "base_uri": "https://localhost:8080/"
        },
        "id": "a7roG5bpoTwI",
        "outputId": "ccec7900-75a6-4dfe-824c-296db4955268"
      },
      "source": [
        "model_d = CustomCNN(3, 2).to(\"cuda\")\n",
        "lr_d = 1e-4\n",
        "optimizer_d = optim.Adam(model_d.parameters(), lr=lr_d)\n",
        "scheduler_d = StepLR(optimizer_d, step_size=5, gamma=0.1)\n",
        "loss = nn.CrossEntropyLoss()\n",
        "best_model_d = train(model_d, optimizer_d, loss, train_adv_loader_d, test_adv_loader_d, epochs=6, device=\"cuda\")"
      ],
      "execution_count": null,
      "outputs": [
        {
          "name": "stderr",
          "output_type": "stream",
          "text": [
            "100%|██████████| 450/450 [01:17<00:00,  5.82it/s]\n",
            "100%|██████████| 50/50 [00:04<00:00, 11.50it/s]\n"
          ]
        },
        {
          "name": "stdout",
          "output_type": "stream",
          "text": [
            "Epoch: 1, Training Loss: 1.21, Validation Loss: 0.93, accuracy = 0.53\n"
          ]
        },
        {
          "name": "stderr",
          "output_type": "stream",
          "text": [
            "100%|██████████| 450/450 [01:17<00:00,  5.79it/s]\n",
            "100%|██████████| 50/50 [00:04<00:00, 11.67it/s]\n"
          ]
        },
        {
          "name": "stdout",
          "output_type": "stream",
          "text": [
            "Epoch: 2, Training Loss: 0.66, Validation Loss: 0.42, accuracy = 0.82\n"
          ]
        },
        {
          "name": "stderr",
          "output_type": "stream",
          "text": [
            "100%|██████████| 450/450 [01:18<00:00,  5.76it/s]\n",
            "100%|██████████| 50/50 [00:04<00:00, 11.19it/s]\n"
          ]
        },
        {
          "name": "stdout",
          "output_type": "stream",
          "text": [
            "Epoch: 3, Training Loss: 0.33, Validation Loss: 0.19, accuracy = 0.92\n"
          ]
        },
        {
          "name": "stderr",
          "output_type": "stream",
          "text": [
            "100%|██████████| 450/450 [01:18<00:00,  5.74it/s]\n",
            "100%|██████████| 50/50 [00:04<00:00, 11.39it/s]\n"
          ]
        },
        {
          "name": "stdout",
          "output_type": "stream",
          "text": [
            "Epoch: 4, Training Loss: 0.19, Validation Loss: 0.13, accuracy = 0.94\n"
          ]
        },
        {
          "name": "stderr",
          "output_type": "stream",
          "text": [
            "100%|██████████| 450/450 [01:18<00:00,  5.73it/s]\n",
            "100%|██████████| 50/50 [00:04<00:00, 11.23it/s]\n"
          ]
        },
        {
          "name": "stdout",
          "output_type": "stream",
          "text": [
            "Epoch: 5, Training Loss: 0.16, Validation Loss: 0.10, accuracy = 0.97\n"
          ]
        },
        {
          "name": "stderr",
          "output_type": "stream",
          "text": [
            "100%|██████████| 450/450 [01:18<00:00,  5.74it/s]\n",
            "100%|██████████| 50/50 [00:04<00:00, 11.41it/s]"
          ]
        },
        {
          "name": "stdout",
          "output_type": "stream",
          "text": [
            "Epoch: 6, Training Loss: 0.14, Validation Loss: 0.13, accuracy = 0.94\n"
          ]
        },
        {
          "name": "stderr",
          "output_type": "stream",
          "text": [
            "\n"
          ]
        }
      ]
    },
    {
      "cell_type": "code",
      "metadata": {
        "id": "HLesCRgTyWM8"
      },
      "source": [
        "torch.save(best_model_d.state_dict(), 'best_model_d.pt')"
      ],
      "execution_count": null,
      "outputs": []
    },
    {
      "cell_type": "code",
      "metadata": {
        "colab": {
          "base_uri": "https://localhost:8080/"
        },
        "id": "Q3yhwFXpyUtx",
        "outputId": "dbf45a22-9722-4c26-e045-30e101aad5bf"
      },
      "source": [
        "best_model_d = CustomCNN(3, 2).to(\"cuda\")\n",
        "best_model_d.load_state_dict(torch.load(\"/content/best_model_d.pt\"))"
      ],
      "execution_count": null,
      "outputs": [
        {
          "data": {
            "text/plain": [
              "<All keys matched successfully>"
            ]
          },
          "execution_count": null,
          "metadata": {},
          "output_type": "execute_result"
        }
      ]
    },
    {
      "cell_type": "code",
      "metadata": {
        "colab": {
          "base_uri": "https://localhost:8080/"
        },
        "id": "w_qYRDliGiH_",
        "outputId": "92e5224d-c0fa-4b59-b50c-bb27389e9e87"
      },
      "source": [
        "model_report(model_d, test_adv_loader_d)"
      ],
      "execution_count": null,
      "outputs": [
        {
          "name": "stderr",
          "output_type": "stream",
          "text": [
            "100%|██████████| 50/50 [00:04<00:00, 11.27it/s]"
          ]
        },
        {
          "name": "stdout",
          "output_type": "stream",
          "text": [
            "\n",
            "\n",
            "Validation loss is: 0.13098596154093683\n",
            "              precision    recall  f1-score   support\n",
            "\n",
            "           0       0.99      0.90      0.95       219\n",
            "           1       0.90      0.99      0.94       181\n",
            "\n",
            "    accuracy                           0.94       400\n",
            "   macro avg       0.94      0.95      0.94       400\n",
            "weighted avg       0.95      0.94      0.94       400\n",
            "\n"
          ]
        },
        {
          "name": "stderr",
          "output_type": "stream",
          "text": [
            "\n"
          ]
        }
      ]
    },
    {
      "cell_type": "markdown",
      "metadata": {
        "id": "1qmFvJqm0Raq"
      },
      "source": [
        "### Perfect-Knowledge Attack Evaluation"
      ]
    },
    {
      "cell_type": "markdown",
      "metadata": {
        "id": "UFkgja600VNl"
      },
      "source": [
        "#### Approach woth $F_{base}$ and $F_{secure}$"
      ]
    },
    {
      "cell_type": "code",
      "metadata": {
        "id": "D8IJQvGFsYbg"
      },
      "source": [
        "def attacked_model_report(model, test_loader, attack_f, args):\n",
        "  preds = []\n",
        "  targets = []\n",
        "  loss_fn = nn.CrossEntropyLoss()\n",
        "  valid_loss = 0.0\n",
        "\n",
        "  for (X, y) in tqdm(test_loader):\n",
        "      X, y = X.to(\"cuda\"), torch.full(torch.Size([X.size()[0]]), 2).to(\"cuda\")\n",
        "      delta = attack_f(model, loss_fn, X, y, *args)\n",
        "      output = model(X+delta)\n",
        "      pred = torch.max(output, dim=1)[1]\n",
        "      preds += list(pred.to(\"cpu\").numpy())\n",
        "      targets += list([2 for i in range(len(y.to(\"cpu\").numpy()))])\n",
        "      loss = loss_fn(output, y)\n",
        "      valid_loss += loss.data * X.size(0)\n",
        "  \n",
        "  valid_loss /= len(test_loader.dataset)\n",
        "\n",
        "  print()\n",
        "  print()\n",
        "  print(\"Validation loss is: {}\".format(valid_loss))\n",
        "  print(classification_report(preds, targets, labels=[2]))\n",
        "  "
      ],
      "execution_count": null,
      "outputs": []
    },
    {
      "cell_type": "code",
      "metadata": {
        "colab": {
          "base_uri": "https://localhost:8080/"
        },
        "id": "kuTOOM1mzdJJ",
        "outputId": "51686b36-84c8-4fdc-c2fe-768825232d2d"
      },
      "source": [
        "args = [0.1]\n",
        "attacked_model_report(model_3, test_loader, fgsm, args)"
      ],
      "execution_count": null,
      "outputs": [
        {
          "name": "stderr",
          "output_type": "stream",
          "text": [
            "100%|██████████| 7/7 [00:04<00:00,  1.61it/s]"
          ]
        },
        {
          "name": "stdout",
          "output_type": "stream",
          "text": [
            "\n",
            "\n",
            "Validation loss is: 0.49319323897361755\n",
            "              precision    recall  f1-score   support\n",
            "\n",
            "           2       0.79      1.00      0.88       158\n",
            "\n",
            "   micro avg       0.79      1.00      0.88       158\n",
            "   macro avg       0.79      1.00      0.88       158\n",
            "weighted avg       0.79      1.00      0.88       158\n",
            "\n"
          ]
        },
        {
          "name": "stderr",
          "output_type": "stream",
          "text": [
            "\n"
          ]
        }
      ]
    },
    {
      "cell_type": "markdown",
      "metadata": {
        "id": "c858uZnz0tYQ"
      },
      "source": [
        "#### Detector approach"
      ]
    },
    {
      "cell_type": "code",
      "metadata": {
        "id": "mZRoVPEqXOiS"
      },
      "source": [
        "train_loader = DataLoader(train_dataset, 1, shuffle=True, num_workers=2)\n",
        "test_loader = DataLoader(test_dataset, 1, num_workers=2)"
      ],
      "execution_count": null,
      "outputs": []
    },
    {
      "cell_type": "code",
      "metadata": {
        "id": "0f5b4od70dGV"
      },
      "source": [
        "def adaptive_attacked_model_report(model, model_d, test_loader, attack_f, args):\n",
        "  preds = []\n",
        "  targets = []\n",
        "  loss_fn = nn.CrossEntropyLoss()\n",
        "  valid_loss = 0.0\n",
        "\n",
        "  for (X, y) in tqdm(test_loader):\n",
        "      X, y = X.to(\"cuda\"), torch.full(torch.Size([X.size()[0]]), 1).to(\"cuda\")\n",
        "      delta = attack_f(model, model_d, X, y[0], *args)\n",
        "      output = model_d(X+delta)\n",
        "      pred = torch.max(output, dim=1)[1]\n",
        "      preds += list(pred.to(\"cpu\"))\n",
        "      targets += list(y.to(\"cpu\"))\n",
        "      loss = loss_fn(output, y)\n",
        "      valid_loss += loss.data.item() * X.size(0)\n",
        "  \n",
        "  valid_loss /= len(test_loader.dataset)\n",
        "\n",
        "  print()\n",
        "  print()\n",
        "  print(\"Validation loss is: {}\".format(valid_loss))\n",
        "  print(classification_report(preds, targets, labels=[1]))\n",
        "  "
      ],
      "execution_count": null,
      "outputs": []
    },
    {
      "cell_type": "code",
      "metadata": {
        "id": "G9rR-LqhQUVv"
      },
      "source": [
        "def adaptive_fgsm(model, model_d, X, y, e):\n",
        "    m = nn.Sigmoid()\n",
        "    loss_fn = nn.BCELoss()\n",
        "    delta = torch.zeros_like(X, requires_grad=True, device=\"cuda\")\n",
        "    X, y = X.to(\"cuda\"), torch.tensor(1).to(\"cuda\")\n",
        "\n",
        "    Z_d = model_d(X + delta)\n",
        "    Z_f = model(X + delta)\n",
        "\n",
        "    if torch.argmax(Z_d) == 0:\n",
        "      loss = loss_fn(m(Z_f[0][y.item()]), y.float())\n",
        "\n",
        "    else:\n",
        "\n",
        "      loss = loss_fn(m((Z_d[0][1]+1)*torch.max(Z_f[0])), y.float())\n",
        "\n",
        "    loss.backward()\n",
        "\n",
        "\n",
        "    g = delta.grad.detach()\n",
        "    return e * g.sign()"
      ],
      "execution_count": null,
      "outputs": []
    },
    {
      "cell_type": "code",
      "metadata": {
        "colab": {
          "base_uri": "https://localhost:8080/"
        },
        "id": "7knNT0iBb4vZ",
        "outputId": "373d9e32-46e8-4a40-85bd-5ddec20ab7bc"
      },
      "source": [
        "adaptive_attacked_model_report(model_2, model_d, test_loader, adaptive_fgsm, [0.1])"
      ],
      "execution_count": null,
      "outputs": [
        {
          "name": "stderr",
          "output_type": "stream",
          "text": [
            "100%|██████████| 200/200 [00:09<00:00, 20.29it/s]"
          ]
        },
        {
          "name": "stdout",
          "output_type": "stream",
          "text": [
            "\n",
            "\n",
            "Validation loss is: 0.2467489069249632\n",
            "              precision    recall  f1-score   support\n",
            "\n",
            "           1       0.89      1.00      0.94       178\n",
            "\n",
            "   micro avg       0.89      1.00      0.94       178\n",
            "   macro avg       0.89      1.00      0.94       178\n",
            "weighted avg       0.89      1.00      0.94       178\n",
            "\n"
          ]
        },
        {
          "name": "stderr",
          "output_type": "stream",
          "text": [
            "\n"
          ]
        }
      ]
    },
    {
      "cell_type": "markdown",
      "metadata": {
        "id": "E4CDEUQGaAhI"
      },
      "source": [
        "### Limited-Knowledge Attack Evaluation"
      ]
    },
    {
      "cell_type": "markdown",
      "metadata": {
        "id": "AK_cShI70-co"
      },
      "source": [
        "#### Approach woth $F_{base}$ and $F_{secure}$"
      ]
    },
    {
      "cell_type": "code",
      "metadata": {
        "id": "nWNWwOTnqxzT"
      },
      "source": [
        "subset_a, subset_d = torch.utils.data.random_split(train_adv_dataset, [int(len(train_adv_dataset)/2), int(len(train_adv_dataset)/2)])"
      ],
      "execution_count": null,
      "outputs": []
    },
    {
      "cell_type": "code",
      "metadata": {
        "id": "ukyqgFS08D9g"
      },
      "source": [
        "train_loader_a = DataLoader(subset_a, 32, shuffle=True, collate_fn=collate, num_workers=2)\n",
        "train_loader_d = DataLoader(subset_d, 32, shuffle=True, collate_fn=collate, num_workers=2)\n",
        "test_adv_loader = DataLoader(test_adv_dataset, 32, collate_fn=collate, num_workers=2)"
      ],
      "execution_count": null,
      "outputs": []
    },
    {
      "cell_type": "code",
      "metadata": {
        "colab": {
          "base_uri": "https://localhost:8080/"
        },
        "id": "DX5tTp_A8MV7",
        "outputId": "c17bb746-2d46-4145-dc67-736fe9c486ba"
      },
      "source": [
        "model_3_defender = CustomCNN(3, 3).to(\"cuda\")\n",
        "lr_3_defender = 1e-4\n",
        "optimizer_3_defender = optim.Adam(model_3_defender.parameters(), lr=lr_3_defender)\n",
        "scheduler_3_defender = StepLR(optimizer_3_defender, step_size=5, gamma=0.1)\n",
        "loss = nn.CrossEntropyLoss()\n",
        "best_model_3_defender = train(model_3_defender, optimizer_3_defender, loss, train_loader_a, test_adv_loader, epochs=10, device=\"cuda\")"
      ],
      "execution_count": null,
      "outputs": [
        {
          "name": "stderr",
          "output_type": "stream",
          "text": [
            "100%|██████████| 57/57 [00:18<00:00,  3.01it/s]\n",
            "100%|██████████| 13/13 [00:03<00:00,  4.02it/s]\n"
          ]
        },
        {
          "name": "stdout",
          "output_type": "stream",
          "text": [
            "Epoch: 1, Training Loss: 2.35, Validation Loss: 1.22, accuracy = 0.38\n"
          ]
        },
        {
          "name": "stderr",
          "output_type": "stream",
          "text": [
            "100%|██████████| 57/57 [00:18<00:00,  3.02it/s]\n",
            "100%|██████████| 13/13 [00:03<00:00,  4.03it/s]\n"
          ]
        },
        {
          "name": "stdout",
          "output_type": "stream",
          "text": [
            "Epoch: 2, Training Loss: 1.01, Validation Loss: 1.11, accuracy = 0.43\n"
          ]
        },
        {
          "name": "stderr",
          "output_type": "stream",
          "text": [
            "100%|██████████| 57/57 [00:18<00:00,  3.01it/s]\n",
            "100%|██████████| 13/13 [00:03<00:00,  4.05it/s]\n"
          ]
        },
        {
          "name": "stdout",
          "output_type": "stream",
          "text": [
            "Epoch: 3, Training Loss: 0.85, Validation Loss: 1.01, accuracy = 0.61\n"
          ]
        },
        {
          "name": "stderr",
          "output_type": "stream",
          "text": [
            "100%|██████████| 57/57 [00:18<00:00,  3.01it/s]\n",
            "100%|██████████| 13/13 [00:03<00:00,  4.06it/s]\n"
          ]
        },
        {
          "name": "stdout",
          "output_type": "stream",
          "text": [
            "Epoch: 4, Training Loss: 0.62, Validation Loss: 0.72, accuracy = 0.72\n"
          ]
        },
        {
          "name": "stderr",
          "output_type": "stream",
          "text": [
            "100%|██████████| 57/57 [00:18<00:00,  3.03it/s]\n",
            "100%|██████████| 13/13 [00:03<00:00,  4.07it/s]\n"
          ]
        },
        {
          "name": "stdout",
          "output_type": "stream",
          "text": [
            "Epoch: 5, Training Loss: 0.42, Validation Loss: 0.70, accuracy = 0.69\n"
          ]
        },
        {
          "name": "stderr",
          "output_type": "stream",
          "text": [
            "100%|██████████| 57/57 [00:19<00:00,  2.99it/s]\n",
            "100%|██████████| 13/13 [00:03<00:00,  3.99it/s]\n"
          ]
        },
        {
          "name": "stdout",
          "output_type": "stream",
          "text": [
            "Epoch: 6, Training Loss: 0.28, Validation Loss: 0.86, accuracy = 0.75\n"
          ]
        },
        {
          "name": "stderr",
          "output_type": "stream",
          "text": [
            "100%|██████████| 57/57 [00:18<00:00,  3.02it/s]\n",
            "100%|██████████| 13/13 [00:03<00:00,  3.99it/s]\n"
          ]
        },
        {
          "name": "stdout",
          "output_type": "stream",
          "text": [
            "Epoch: 7, Training Loss: 0.29, Validation Loss: 0.78, accuracy = 0.79\n"
          ]
        },
        {
          "name": "stderr",
          "output_type": "stream",
          "text": [
            "100%|██████████| 57/57 [00:18<00:00,  3.03it/s]\n",
            "100%|██████████| 13/13 [00:03<00:00,  4.04it/s]\n"
          ]
        },
        {
          "name": "stdout",
          "output_type": "stream",
          "text": [
            "Epoch: 8, Training Loss: 0.20, Validation Loss: 0.95, accuracy = 0.75\n"
          ]
        },
        {
          "name": "stderr",
          "output_type": "stream",
          "text": [
            "100%|██████████| 57/57 [00:18<00:00,  3.06it/s]\n",
            "100%|██████████| 13/13 [00:03<00:00,  4.09it/s]\n"
          ]
        },
        {
          "name": "stdout",
          "output_type": "stream",
          "text": [
            "Epoch: 9, Training Loss: 0.15, Validation Loss: 0.40, accuracy = 0.86\n"
          ]
        },
        {
          "name": "stderr",
          "output_type": "stream",
          "text": [
            "100%|██████████| 57/57 [00:18<00:00,  3.02it/s]\n",
            "100%|██████████| 13/13 [00:03<00:00,  4.14it/s]"
          ]
        },
        {
          "name": "stdout",
          "output_type": "stream",
          "text": [
            "Epoch: 10, Training Loss: 0.10, Validation Loss: 0.40, accuracy = 0.86\n"
          ]
        },
        {
          "name": "stderr",
          "output_type": "stream",
          "text": [
            "\n"
          ]
        }
      ]
    },
    {
      "cell_type": "code",
      "metadata": {
        "colab": {
          "base_uri": "https://localhost:8080/"
        },
        "id": "-rOqIMi2-zn1",
        "outputId": "8de6f9ef-104f-46d6-991d-c8531decb012"
      },
      "source": [
        "model_3_attacker = CustomCNN(3, 3).to(\"cuda\")\n",
        "lr_3_attacker = 1e-4\n",
        "optimizer_3_attacker = optim.Adam(model_3_attacker.parameters(), lr=lr_3_attacker)\n",
        "scheduler_3_attacker = StepLR(optimizer_3_attacker, step_size=5, gamma=0.1)\n",
        "loss = nn.CrossEntropyLoss()\n",
        "best_model_3_attacker = train(model_3_attacker, optimizer_3_attacker, loss, train_loader_d, test_adv_loader, epochs=10, device=\"cuda\")"
      ],
      "execution_count": null,
      "outputs": [
        {
          "name": "stderr",
          "output_type": "stream",
          "text": [
            "100%|██████████| 57/57 [00:18<00:00,  3.01it/s]\n",
            "100%|██████████| 13/13 [00:03<00:00,  4.17it/s]\n"
          ]
        },
        {
          "name": "stdout",
          "output_type": "stream",
          "text": [
            "Epoch: 1, Training Loss: 2.73, Validation Loss: 1.08, accuracy = 0.50\n"
          ]
        },
        {
          "name": "stderr",
          "output_type": "stream",
          "text": [
            "100%|██████████| 57/57 [00:18<00:00,  3.03it/s]\n",
            "100%|██████████| 13/13 [00:03<00:00,  4.09it/s]\n"
          ]
        },
        {
          "name": "stdout",
          "output_type": "stream",
          "text": [
            "Epoch: 2, Training Loss: 1.00, Validation Loss: 1.11, accuracy = 0.50\n"
          ]
        },
        {
          "name": "stderr",
          "output_type": "stream",
          "text": [
            "100%|██████████| 57/57 [00:18<00:00,  3.04it/s]\n",
            "100%|██████████| 13/13 [00:03<00:00,  4.01it/s]\n"
          ]
        },
        {
          "name": "stdout",
          "output_type": "stream",
          "text": [
            "Epoch: 3, Training Loss: 0.95, Validation Loss: 1.03, accuracy = 0.51\n"
          ]
        },
        {
          "name": "stderr",
          "output_type": "stream",
          "text": [
            "100%|██████████| 57/57 [00:18<00:00,  3.02it/s]\n",
            "100%|██████████| 13/13 [00:03<00:00,  4.01it/s]\n"
          ]
        },
        {
          "name": "stdout",
          "output_type": "stream",
          "text": [
            "Epoch: 4, Training Loss: 0.89, Validation Loss: 0.97, accuracy = 0.49\n"
          ]
        },
        {
          "name": "stderr",
          "output_type": "stream",
          "text": [
            "100%|██████████| 57/57 [00:18<00:00,  3.02it/s]\n",
            "100%|██████████| 13/13 [00:03<00:00,  4.00it/s]\n"
          ]
        },
        {
          "name": "stdout",
          "output_type": "stream",
          "text": [
            "Epoch: 5, Training Loss: 0.84, Validation Loss: 0.90, accuracy = 0.55\n"
          ]
        },
        {
          "name": "stderr",
          "output_type": "stream",
          "text": [
            "100%|██████████| 57/57 [00:18<00:00,  3.01it/s]\n",
            "100%|██████████| 13/13 [00:03<00:00,  3.96it/s]\n"
          ]
        },
        {
          "name": "stdout",
          "output_type": "stream",
          "text": [
            "Epoch: 6, Training Loss: 0.72, Validation Loss: 0.73, accuracy = 0.70\n"
          ]
        },
        {
          "name": "stderr",
          "output_type": "stream",
          "text": [
            "100%|██████████| 57/57 [00:18<00:00,  3.03it/s]\n",
            "100%|██████████| 13/13 [00:03<00:00,  4.01it/s]\n"
          ]
        },
        {
          "name": "stdout",
          "output_type": "stream",
          "text": [
            "Epoch: 7, Training Loss: 0.48, Validation Loss: 0.62, accuracy = 0.72\n"
          ]
        },
        {
          "name": "stderr",
          "output_type": "stream",
          "text": [
            "100%|██████████| 57/57 [00:18<00:00,  3.00it/s]\n",
            "100%|██████████| 13/13 [00:03<00:00,  4.07it/s]\n"
          ]
        },
        {
          "name": "stdout",
          "output_type": "stream",
          "text": [
            "Epoch: 8, Training Loss: 0.30, Validation Loss: 0.55, accuracy = 0.79\n"
          ]
        },
        {
          "name": "stderr",
          "output_type": "stream",
          "text": [
            "100%|██████████| 57/57 [00:18<00:00,  3.01it/s]\n",
            "100%|██████████| 13/13 [00:03<00:00,  3.95it/s]\n"
          ]
        },
        {
          "name": "stdout",
          "output_type": "stream",
          "text": [
            "Epoch: 9, Training Loss: 0.26, Validation Loss: 0.32, accuracy = 0.87\n"
          ]
        },
        {
          "name": "stderr",
          "output_type": "stream",
          "text": [
            "100%|██████████| 57/57 [00:18<00:00,  3.04it/s]\n",
            "100%|██████████| 13/13 [00:03<00:00,  3.97it/s]"
          ]
        },
        {
          "name": "stdout",
          "output_type": "stream",
          "text": [
            "Epoch: 10, Training Loss: 0.17, Validation Loss: 0.41, accuracy = 0.83\n"
          ]
        },
        {
          "name": "stderr",
          "output_type": "stream",
          "text": [
            "\n"
          ]
        }
      ]
    },
    {
      "cell_type": "code",
      "metadata": {
        "id": "vJJp8M9e94c9"
      },
      "source": [
        "def limited_attacked_model_report(model_d, model_a, test_loader, attack_f, args):\n",
        "  preds = []\n",
        "  targets = []\n",
        "  loss_fn = nn.CrossEntropyLoss()\n",
        "  valid_loss = 0.0\n",
        "\n",
        "  for (X, y) in tqdm(test_loader):\n",
        "      X, y = X.to(\"cuda\"), torch.full(torch.Size([X.size()[0]]), 2).to(\"cuda\")\n",
        "      delta = attack_f(model_a, loss_fn, X, y, *args)\n",
        "      output = model_d(X+delta)\n",
        "      pred = torch.max(output, dim=1)[1]\n",
        "      preds += list(pred.to(\"cpu\"))\n",
        "      targets += list(y.to(\"cpu\"))\n",
        "      loss = loss_fn(output, y)\n",
        "      valid_loss += loss.data.item() * X.size(0)\n",
        "  \n",
        "  valid_loss /= len(test_loader.dataset)\n",
        "\n",
        "  print()\n",
        "  print()\n",
        "  print(\"Validation loss is: {}\".format(valid_loss))\n",
        "  print(classification_report(preds, targets, labels=[2]))"
      ],
      "execution_count": null,
      "outputs": []
    },
    {
      "cell_type": "code",
      "metadata": {
        "colab": {
          "base_uri": "https://localhost:8080/"
        },
        "id": "NUowtK1kBJvQ",
        "outputId": "64a4f417-f7d9-4c9e-f143-3637b0957fa5"
      },
      "source": [
        "limited_attacked_model_report(model_3_defender, model_3_attacker, test_adv_loader, fgsm, [0.1])"
      ],
      "execution_count": null,
      "outputs": [
        {
          "name": "stderr",
          "output_type": "stream",
          "text": [
            "100%|██████████| 13/13 [00:05<00:00,  2.59it/s]"
          ]
        },
        {
          "name": "stdout",
          "output_type": "stream",
          "text": [
            "\n",
            "\n",
            "Validation loss is: 0.03834956189384684\n",
            "              precision    recall  f1-score   support\n",
            "\n",
            "           2       0.98      1.00      0.99       394\n",
            "\n",
            "   micro avg       0.98      1.00      0.99       394\n",
            "   macro avg       0.98      1.00      0.99       394\n",
            "weighted avg       0.98      1.00      0.99       394\n",
            "\n"
          ]
        },
        {
          "name": "stderr",
          "output_type": "stream",
          "text": [
            "\n"
          ]
        }
      ]
    },
    {
      "cell_type": "markdown",
      "metadata": {
        "id": "APTDTs3E1PeW"
      },
      "source": [
        "#### Approach with detector"
      ]
    },
    {
      "cell_type": "code",
      "metadata": {
        "id": "WqdPpjGQRQDF"
      },
      "source": [
        "train_adv_loader_d = DataLoader(subset_d, 8, shuffle=True, collate_fn = collate_for_detector, num_workers=2)\n",
        "train_adv_loader_a = DataLoader(subset_a, 8, shuffle=True, collate_fn = collate_for_detector, num_workers=2)\n",
        "test_loader = DataLoader(test_dataset, 1, num_workers=2)"
      ],
      "execution_count": null,
      "outputs": []
    },
    {
      "cell_type": "code",
      "metadata": {
        "colab": {
          "base_uri": "https://localhost:8080/"
        },
        "id": "6RPqRIM2RhEf",
        "outputId": "da73d651-1e50-4950-dd58-5910b637434e"
      },
      "source": [
        "model_defender = CustomCNN(3, 2).to(\"cuda\")\n",
        "lr_defender = 1e-4\n",
        "optimizer_defender = optim.Adam(model_defender.parameters(), lr=lr_defender)\n",
        "scheduler_defender = StepLR(optimizer_defender, step_size=5, gamma=0.1)\n",
        "loss = nn.CrossEntropyLoss()\n",
        "best_model_defender = train(model_defender, optimizer_defender, loss, train_adv_loader_d, test_adv_loader_d, epochs=6, device=\"cuda\")"
      ],
      "execution_count": null,
      "outputs": [
        {
          "name": "stderr",
          "output_type": "stream",
          "text": [
            "100%|██████████| 225/225 [00:39<00:00,  5.74it/s]\n",
            "100%|██████████| 50/50 [00:03<00:00, 12.75it/s]\n"
          ]
        },
        {
          "name": "stdout",
          "output_type": "stream",
          "text": [
            "Epoch: 1, Training Loss: 1.89, Validation Loss: 1.10, accuracy = 0.52\n"
          ]
        },
        {
          "name": "stderr",
          "output_type": "stream",
          "text": [
            "100%|██████████| 225/225 [00:39<00:00,  5.76it/s]\n",
            "100%|██████████| 50/50 [00:03<00:00, 13.00it/s]\n"
          ]
        },
        {
          "name": "stdout",
          "output_type": "stream",
          "text": [
            "Epoch: 2, Training Loss: 0.84, Validation Loss: 0.70, accuracy = 0.66\n"
          ]
        },
        {
          "name": "stderr",
          "output_type": "stream",
          "text": [
            "100%|██████████| 225/225 [00:39<00:00,  5.76it/s]\n",
            "100%|██████████| 50/50 [00:03<00:00, 14.54it/s]\n"
          ]
        },
        {
          "name": "stdout",
          "output_type": "stream",
          "text": [
            "Epoch: 3, Training Loss: 0.50, Validation Loss: 0.25, accuracy = 0.89\n"
          ]
        },
        {
          "name": "stderr",
          "output_type": "stream",
          "text": [
            "100%|██████████| 225/225 [00:39<00:00,  5.71it/s]\n",
            "100%|██████████| 50/50 [00:03<00:00, 15.98it/s]\n"
          ]
        },
        {
          "name": "stdout",
          "output_type": "stream",
          "text": [
            "Epoch: 4, Training Loss: 0.25, Validation Loss: 0.58, accuracy = 0.79\n"
          ]
        },
        {
          "name": "stderr",
          "output_type": "stream",
          "text": [
            "100%|██████████| 225/225 [00:39<00:00,  5.69it/s]\n",
            "100%|██████████| 50/50 [00:03<00:00, 16.38it/s]\n"
          ]
        },
        {
          "name": "stdout",
          "output_type": "stream",
          "text": [
            "Epoch: 5, Training Loss: 0.19, Validation Loss: 0.13, accuracy = 0.94\n"
          ]
        },
        {
          "name": "stderr",
          "output_type": "stream",
          "text": [
            "100%|██████████| 225/225 [00:39<00:00,  5.70it/s]\n",
            "100%|██████████| 50/50 [00:03<00:00, 16.15it/s]"
          ]
        },
        {
          "name": "stdout",
          "output_type": "stream",
          "text": [
            "Epoch: 6, Training Loss: 0.22, Validation Loss: 0.29, accuracy = 0.86\n"
          ]
        },
        {
          "name": "stderr",
          "output_type": "stream",
          "text": [
            "\n"
          ]
        }
      ]
    },
    {
      "cell_type": "code",
      "metadata": {
        "colab": {
          "base_uri": "https://localhost:8080/"
        },
        "id": "NwfFZvvWR9tl",
        "outputId": "39255915-6d0c-47f7-a15c-c2f99745b68a"
      },
      "source": [
        "model_attacker = CustomCNN(3, 2).to(\"cuda\")\n",
        "lr_attacker = 1e-4\n",
        "optimizer_attacker = optim.Adam(model_attacker.parameters(), lr=lr_attacker)\n",
        "scheduler_attacker = StepLR(optimizer_attacker, step_size=5, gamma=0.1)\n",
        "loss = nn.CrossEntropyLoss()\n",
        "best_model_defender = train(model_attacker, optimizer_attacker, loss, train_adv_loader_a, test_adv_loader_d, epochs=6, device=\"cuda\")"
      ],
      "execution_count": null,
      "outputs": [
        {
          "name": "stderr",
          "output_type": "stream",
          "text": [
            "100%|██████████| 225/225 [00:38<00:00,  5.78it/s]\n",
            "100%|██████████| 50/50 [00:03<00:00, 16.46it/s]\n"
          ]
        },
        {
          "name": "stdout",
          "output_type": "stream",
          "text": [
            "Epoch: 1, Training Loss: 1.80, Validation Loss: 0.80, accuracy = 0.56\n"
          ]
        },
        {
          "name": "stderr",
          "output_type": "stream",
          "text": [
            "100%|██████████| 225/225 [00:38<00:00,  5.79it/s]\n",
            "100%|██████████| 50/50 [00:03<00:00, 16.43it/s]\n"
          ]
        },
        {
          "name": "stdout",
          "output_type": "stream",
          "text": [
            "Epoch: 2, Training Loss: 0.84, Validation Loss: 0.71, accuracy = 0.59\n"
          ]
        },
        {
          "name": "stderr",
          "output_type": "stream",
          "text": [
            "100%|██████████| 225/225 [00:38<00:00,  5.78it/s]\n",
            "100%|██████████| 50/50 [00:02<00:00, 17.00it/s]\n"
          ]
        },
        {
          "name": "stdout",
          "output_type": "stream",
          "text": [
            "Epoch: 3, Training Loss: 0.63, Validation Loss: 0.48, accuracy = 0.77\n"
          ]
        },
        {
          "name": "stderr",
          "output_type": "stream",
          "text": [
            "100%|██████████| 225/225 [00:39<00:00,  5.74it/s]\n",
            "100%|██████████| 50/50 [00:02<00:00, 16.89it/s]\n"
          ]
        },
        {
          "name": "stdout",
          "output_type": "stream",
          "text": [
            "Epoch: 4, Training Loss: 0.43, Validation Loss: 0.36, accuracy = 0.84\n"
          ]
        },
        {
          "name": "stderr",
          "output_type": "stream",
          "text": [
            "100%|██████████| 225/225 [00:39<00:00,  5.70it/s]\n",
            "100%|██████████| 50/50 [00:03<00:00, 16.39it/s]\n"
          ]
        },
        {
          "name": "stdout",
          "output_type": "stream",
          "text": [
            "Epoch: 5, Training Loss: 0.33, Validation Loss: 0.25, accuracy = 0.89\n"
          ]
        },
        {
          "name": "stderr",
          "output_type": "stream",
          "text": [
            "100%|██████████| 225/225 [00:39<00:00,  5.70it/s]\n",
            "100%|██████████| 50/50 [00:03<00:00, 15.78it/s]"
          ]
        },
        {
          "name": "stdout",
          "output_type": "stream",
          "text": [
            "Epoch: 6, Training Loss: 0.26, Validation Loss: 0.19, accuracy = 0.92\n"
          ]
        },
        {
          "name": "stderr",
          "output_type": "stream",
          "text": [
            "\n"
          ]
        }
      ]
    },
    {
      "cell_type": "code",
      "metadata": {
        "id": "1ASFUXgfhHjZ"
      },
      "source": [
        "def limited_adaptive_attack_model_report(model, model_detector_defenser,\n",
        "                                         model_detector_attacker, test_loader, attack_f, args):\n",
        "  preds = []\n",
        "  targets = []\n",
        "  loss_fn = nn.CrossEntropyLoss()\n",
        "  valid_loss = 0.0\n",
        "\n",
        "  for (X, y) in tqdm(test_loader):\n",
        "      X, y = X.to(\"cuda\"), torch.full(torch.Size([X.size()[0]]), 1).to(\"cuda\")\n",
        "      delta = attack_f(model, model_detector_attacker, X, y, *args)\n",
        "      output = model_detector_defenser(X+delta)\n",
        "      pred = torch.max(output, dim=1)[1]\n",
        "      preds += [pred.to(\"cpu\").item()]\n",
        "      targets += [y.to(\"cpu\").item()]\n",
        "      loss = loss_fn(output, y)\n",
        "      valid_loss += loss.data.item() * X.size(0)\n",
        "  \n",
        "  valid_loss /= len(test_loader.dataset)\n",
        "\n",
        "  print()\n",
        "  print()\n",
        "  print(\"Validation loss is: {}\".format(valid_loss))\n",
        "  print(classification_report(preds, targets, labels=[1]))"
      ],
      "execution_count": null,
      "outputs": []
    },
    {
      "cell_type": "code",
      "metadata": {
        "colab": {
          "base_uri": "https://localhost:8080/"
        },
        "id": "rOkKabRGhsk7",
        "outputId": "3e9ff266-ad1b-414e-b744-58c44abbbd57"
      },
      "source": [
        "limited_adaptive_attack_model_report(model_2, model_defender, model_attacker, test_loader, adaptive_fgsm, [0.1])"
      ],
      "execution_count": null,
      "outputs": [
        {
          "name": "stderr",
          "output_type": "stream",
          "text": [
            "100%|██████████| 200/200 [00:10<00:00, 19.08it/s]"
          ]
        },
        {
          "name": "stdout",
          "output_type": "stream",
          "text": [
            "\n",
            "\n",
            "Validation loss is: 0.2860299956036351\n",
            "              precision    recall  f1-score   support\n",
            "\n",
            "           1       0.87      1.00      0.93       174\n",
            "\n",
            "   micro avg       0.87      1.00      0.93       174\n",
            "   macro avg       0.87      1.00      0.93       174\n",
            "weighted avg       0.87      1.00      0.93       174\n",
            "\n"
          ]
        },
        {
          "name": "stderr",
          "output_type": "stream",
          "text": [
            "\n"
          ]
        }
      ]
    }
  ]
}